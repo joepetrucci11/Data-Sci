{
  "nbformat": 4,
  "nbformat_minor": 0,
  "metadata": {
    "colab": {
      "provenance": [],
      "authorship_tag": "ABX9TyMLGOEXtdfr1borG/snbVcy",
      "include_colab_link": true
    },
    "kernelspec": {
      "name": "python3",
      "display_name": "Python 3"
    },
    "language_info": {
      "name": "python"
    }
  },
  "cells": [
    {
      "cell_type": "markdown",
      "metadata": {
        "id": "view-in-github",
        "colab_type": "text"
      },
      "source": [
        "<a href=\"https://colab.research.google.com/github/joepetrucci11/Data-Sci/blob/main/Joseph_Petrucci_Midterm_Exam.ipynb\" target=\"_parent\"><img src=\"https://colab.research.google.com/assets/colab-badge.svg\" alt=\"Open In Colab\"/></a>"
      ]
    },
    {
      "cell_type": "code",
      "execution_count": 1,
      "metadata": {
        "id": "uM8GvihLQ1G0"
      },
      "outputs": [],
      "source": [
        "import numpy as np # numpy is a directory with a set of tools\n",
        "import matplotlib.pyplot as plt # matplotlib is also a directory with a set of tools"
      ]
    },
    {
      "cell_type": "code",
      "source": [
        "X = np.array([12,9,20,7,2]) # this is an array of numbers for the Diameters\n",
        "Y = np.array([38,28,63,22,6]) # this is an array of numbers for the Circumferences"
      ],
      "metadata": {
        "id": "1jX81PlgRDjo"
      },
      "execution_count": 2,
      "outputs": []
    },
    {
      "cell_type": "code",
      "source": [
        "plt.plot(X,Y,'g.') # this plots of a graph of x vs y using green dots \n",
        "plt.title('Graph of Circle Diameter vs Circumference') # this is used to title the graph\n",
        "plt.xlabel('Diameters') # this is used to label the x axis\n",
        "plt.ylabel('Circumferences') #this is used to label the y axis\n",
        "plt.plot(X,Y,'r') # this is used to plot the graph "
      ],
      "metadata": {
        "colab": {
          "base_uri": "https://localhost:8080/",
          "height": 312
        },
        "id": "6wstsekSROVz",
        "outputId": "08ad05cc-e62d-4a70-cbf5-4b06bc817e40"
      },
      "execution_count": 3,
      "outputs": [
        {
          "output_type": "execute_result",
          "data": {
            "text/plain": [
              "[<matplotlib.lines.Line2D at 0x7ff8e45e20d0>]"
            ]
          },
          "metadata": {},
          "execution_count": 3
        },
        {
          "output_type": "display_data",
          "data": {
            "text/plain": [
              "<Figure size 432x288 with 1 Axes>"
            ],
            "image/png": "[encoded data removed]"
          },
          "metadata": {
            "needs_background": "light"
          }
        }
      ]
    },
    {
      "cell_type": "code",
      "source": [
        "m_guess = 0 # this is the initial guess for m\n",
        "b_guess = 0 # this is the initial guess for b"
      ],
      "metadata": {
        "id": "IgfL_kPjRc5M"
      },
      "execution_count": 4,
      "outputs": []
    },
    {
      "cell_type": "code",
      "source": [
        "m_guess * X + b_guess # here we are integrating the guesses into the general equation of a line"
      ],
      "metadata": {
        "colab": {
          "base_uri": "https://localhost:8080/"
        },
        "id": "ugUydTPvSLRa",
        "outputId": "0436d936-b28c-4430-fb1b-69645f0d2627"
      },
      "execution_count": 5,
      "outputs": [
        {
          "output_type": "execute_result",
          "data": {
            "text/plain": [
              "array([0, 0, 0, 0, 0])"
            ]
          },
          "metadata": {},
          "execution_count": 5
        }
      ]
    },
    {
      "cell_type": "markdown",
      "source": [
        "$y=mx + b$\n",
        "\n",
        "    #This is the general equation of a line"
      ],
      "metadata": {
        "id": "0_f7j3m-S0nQ"
      }
    },
    {
      "cell_type": "code",
      "source": [
        "y_guess = m_guess * X + b_guess # here we are implementing the guesses using the general formula of y = m * x + b"
      ],
      "metadata": {
        "id": "0mhxC-0US4de"
      },
      "execution_count": 6,
      "outputs": []
    },
    {
      "cell_type": "code",
      "source": [
        "y_guess # here we are outputting the variable 'y_guess'"
      ],
      "metadata": {
        "colab": {
          "base_uri": "https://localhost:8080/"
        },
        "id": "pptuJiaSTDSb",
        "outputId": "e6565198-43e4-4660-cfef-df4e25f0f79e"
      },
      "execution_count": 7,
      "outputs": [
        {
          "output_type": "execute_result",
          "data": {
            "text/plain": [
              "array([0, 0, 0, 0, 0])"
            ]
          },
          "metadata": {},
          "execution_count": 7
        }
      ]
    },
    {
      "cell_type": "code",
      "source": [
        "y_guess - Y # here we are calculating the difference betweeen our known values and the guesses "
      ],
      "metadata": {
        "colab": {
          "base_uri": "https://localhost:8080/"
        },
        "id": "bk34XCwgTnGn",
        "outputId": "ac06b216-706c-4c5e-9a56-458488837a9d"
      },
      "execution_count": 8,
      "outputs": [
        {
          "output_type": "execute_result",
          "data": {
            "text/plain": [
              "array([-38, -28, -63, -22,  -6])"
            ]
          },
          "metadata": {},
          "execution_count": 8
        }
      ]
    },
    {
      "cell_type": "code",
      "source": [
        "(y_guess - Y)**2 # here we are squaring the numbers to remove the negative signs (the square of a positive or negative number is positive)"
      ],
      "metadata": {
        "colab": {
          "base_uri": "https://localhost:8080/"
        },
        "id": "M0vqLNKGTpv9",
        "outputId": "8f3fc8f7-695b-48ad-dccb-2819d0142459"
      },
      "execution_count": 9,
      "outputs": [
        {
          "output_type": "execute_result",
          "data": {
            "text/plain": [
              "array([1444,  784, 3969,  484,   36])"
            ]
          },
          "metadata": {},
          "execution_count": 9
        }
      ]
    },
    {
      "cell_type": "code",
      "source": [
        "np.sum((y_guess - Y)**2) # here we are seeing how far off from the actual points we are using the total area"
      ],
      "metadata": {
        "colab": {
          "base_uri": "https://localhost:8080/"
        },
        "id": "na9HZbQoUglK",
        "outputId": "5ea493fe-c356-4ec4-f431-43dd4303eca4"
      },
      "execution_count": 10,
      "outputs": [
        {
          "output_type": "execute_result",
          "data": {
            "text/plain": [
              "6717"
            ]
          },
          "metadata": {},
          "execution_count": 10
        }
      ]
    },
    {
      "cell_type": "code",
      "source": [
        "loss = np.sum((y_guess - Y)**2) # here we are storing the sum in the variable 'loss'"
      ],
      "metadata": {
        "id": "cUu6tDUaVJFL"
      },
      "execution_count": 11,
      "outputs": []
    },
    {
      "cell_type": "code",
      "source": [
        "best_loss_so_far = 100000000000 # this is a big number to automatically overwrite the functions\n",
        "\n",
        "m_best = 0 # this variable keeps track of the best m value we have so far\n",
        "b_best = 0 # this variable keeps track of the best b value we have so far \n",
        "\n",
        "for m_guess in np.linspace(-100,100,100): # here we are getting 100 numbers from -100 to 100 for the m_guess\n",
        "    for b_guess in np.linspace(-100,100,100): # here we are getting 100 numbers from -100 to 100 for the b_guess\n",
        "          \n",
        "          y_guess = m_guess * X + b_guess # here we are getting the y guess based on our known variable 'X', the m_guess and the b_guess\n",
        "\n",
        "          loss =np.sum((y_guess - Y)**2) # we are calculating the loss and squaring it to remove the negative signs \n",
        "          \n",
        "          #print(m_guess,b_guess,loss) # here we are displaying the outputing of the best guesss for m, b and the loss\n",
        "\n",
        "          if loss < best_loss_so_far: # here we are checking which is the best respective results from our testing and reassigning the variables\n",
        "              m_best = m_guess # here we are reassigning the best value for m from its guess to its variable by equating it \n",
        "              b_best = b_guess # here we are reassigning the best value for b from its guess to its variable by equating it \n",
        "              best_loss_so_far = loss # here we are reassigning the best loss from the current loss to its variable by equating it \n",
        "\n",
        "print(\"Found better fit:\") # this is outside of the loop and allows us to print the words \"Found better fit:\"\n",
        "print(m_best,b_best,loss) # this is also outside of the loop and prints out the values stored in the variables 'm_best' , 'b_best' and 'loss'"
      ],
      "metadata": {
        "colab": {
          "base_uri": "https://localhost:8080/"
        },
        "id": "8dF7YeOoWiNd",
        "outputId": "253930f4-c85d-490b-c26b-ed94e11affa4"
      },
      "execution_count": 12,
      "outputs": [
        {
          "output_type": "stream",
          "name": "stdout",
          "text": [
            "Found better fit:\n",
            "3.030303030303031 1.0101010101010104 7378517.0\n"
          ]
        }
      ]
    },
    {
      "cell_type": "markdown",
      "source": [
        "The estimated relationship is:\n",
        "\n",
        "$C = ? D + ?$\n",
        "\n",
        "**Answer:**\\\n",
        "C = 3.030303030303031 D + 1.0101010101010104\n",
        "\n",
        "This can also be written as y = mx + b where m is the slope of the graph which is equal to 3.030303030303031 and where b is the intercept which is equal to 1.0101010101010104"
      ],
      "metadata": {
        "id": "4zCAPG3upXN9"
      }
    },
    {
      "cell_type": "markdown",
      "source": [
        "## Part 3: Interpretation\n",
        "\n",
        "Answer the questions in text cells"
      ],
      "metadata": {
        "id": "7FBlUtdwt_hd"
      }
    },
    {
      "cell_type": "markdown",
      "source": [
        "#### Question 1:\n",
        "\n",
        "What do $m$ and $b$ represent in these equations?"
      ],
      "metadata": {
        "id": "9xIvwJhOuGDh"
      }
    },
    {
      "cell_type": "markdown",
      "source": [
        "**Answer:**\\\n",
        "m is the slope of the graph which is equal to 3.030303030303031 and where b is the intercept which is equal to 1.0101010101010104"
      ],
      "metadata": {
        "id": "OC_Ja53Yugfn"
      }
    },
    {
      "cell_type": "markdown",
      "source": [
        "#### Question 2:\n",
        "\n",
        "Guess what the correct values $m$ and $b$ should be."
      ],
      "metadata": {
        "id": "_7xl4z8kubLo"
      }
    },
    {
      "cell_type": "markdown",
      "source": [
        "**Answer:**\\\n",
        " m = 3.030303030303031\\\n",
        " b = 1.0101010101010104\n",
        "\n",
        "\n",
        "\n"
      ],
      "metadata": {
        "id": "Te_52DvOuhZ-"
      }
    },
    {
      "cell_type": "markdown",
      "source": [
        "#### Question 3:\n",
        "\n",
        "Does it make sense to include $b$ in the parameters?"
      ],
      "metadata": {
        "id": "2yrRt2wMubSC"
      }
    },
    {
      "cell_type": "markdown",
      "source": [
        "**Answer:**\\\n",
        "Yes, this is beacuse the y-intercept id not always zero and thus we need to factor in the variable in order to be closest to the accurate value in order to give us the best fit line. It basically has to do with the accuracy of the best fit line."
      ],
      "metadata": {
        "id": "F0gbHr8_uiWi"
      }
    },
    {
      "cell_type": "markdown",
      "source": [
        "## Bonus:\n",
        "\n",
        "These problems are extra credit. You may use any resources, but be sure to explain your code."
      ],
      "metadata": {
        "id": "_3LN79rPujMz"
      }
    },
    {
      "cell_type": "markdown",
      "source": [
        "#### Bonus 1: Plot the squared errors from your line of best fit"
      ],
      "metadata": {
        "id": "wk0Ox4nqvFcT"
      }
    },
    {
      "cell_type": "code",
      "source": [
        "import matplotlib.pyplot as plt\n",
        "import numpy as np\n",
        "from sklearn import linear_model\n",
        "from sklearn.metrics import mean_squared_error, r2_score"
      ],
      "metadata": {
        "id": "ISTwHzEKNyhq"
      },
      "execution_count": 13,
      "outputs": []
    },
    {
      "cell_type": "code",
      "source": [
        "X_train = np.array([12,9,20,7,2]).reshape(-1, 1)\n",
        "y_train = np.array([38,28,63,22,6])\n",
        "X_test =  np.array([6,8,10,12,14]).reshape(-1, 1)\n",
        "y_test =  np.array([19,25,31.5,38,44])"
      ],
      "metadata": {
        "id": "T0qJH_q5N2fG"
      },
      "execution_count": 14,
      "outputs": []
    },
    {
      "cell_type": "code",
      "source": [
        "# Create linear regression object\n",
        "regr = linear_model.LinearRegression()\n",
        "\n",
        "# Train the model using the training sets\n",
        "regr.fit(X_train, y_train)\n",
        "\n",
        "# Make predictions using the testing set\n",
        "y_pred = regr.predict(X_test)\n",
        "\n",
        "# The coefficients\n",
        "print('Coefficients: \\n', regr.coef_) \n",
        "# The mean squared error\n",
        "print('Mean squared error: %.2f'\n",
        "      % mean_squared_error(y_test, y_pred)) \n",
        "# The coefficient of determination: 1 is perfect prediction\n",
        "print('Coefficient of determination: %.2f'\n",
        "      % r2_score(y_test, y_pred))\n",
        "\n",
        "# Plot outputs\n",
        "plt.figure(figsize=(12, 8))\n",
        "plt.scatter(X_test, y_test,  color='black', alpha = 0.5)\n",
        "plt.plot(X_test, y_pred, color='red', linewidth=3, alpha = 0.8)\n",
        "plt.title(\"Fit Errors\")\n",
        "plt.xlabel(\"Diameter\")\n",
        "plt.ylabel(\"Squared Error\")\n",
        "plt.show()"
      ],
      "metadata": {
        "colab": {
          "base_uri": "https://localhost:8080/",
          "height": 581
        },
        "id": "zJhMqXOkN5Bw",
        "outputId": "64ff84a7-5b5b-411a-bc8e-ed472ea1c2f1"
      },
      "execution_count": 15,
      "outputs": [
        {
          "output_type": "stream",
          "name": "stdout",
          "text": [
            "Coefficients: \n",
            " [3.16853933]\n",
            "Mean squared error: 0.03\n",
            "Coefficient of determination: 1.00\n"
          ]
        },
        {
          "output_type": "display_data",
          "data": {
            "text/plain": [
              "<Figure size 864x576 with 1 Axes>"
            ],
            "image/png": "[encoded data removed]"
          },
          "metadata": {
            "needs_background": "light"
          }
        }
      ]
    },
    {
      "cell_type": "code",
      "source": [
        "errors = y_test - y_pred"
      ],
      "metadata": {
        "id": "smXv6UpxXJqr"
      },
      "execution_count": 16,
      "outputs": []
    },
    {
      "cell_type": "code",
      "source": [
        "errors"
      ],
      "metadata": {
        "colab": {
          "base_uri": "https://localhost:8080/"
        },
        "id": "p7fovevMXM0p",
        "outputId": "2af39155-0aa6-474e-82a4-cd69a372612a"
      },
      "execution_count": 17,
      "outputs": [
        {
          "output_type": "execute_result",
          "data": {
            "text/plain": [
              "array([ 0.2741573 , -0.06292135,  0.1       ,  0.26292135, -0.0741573 ])"
            ]
          },
          "metadata": {},
          "execution_count": 17
        }
      ]
    },
    {
      "cell_type": "code",
      "source": [
        "errors_squared = np.square(y_test - y_pred)"
      ],
      "metadata": {
        "id": "jY1oQAHqQeLt"
      },
      "execution_count": 18,
      "outputs": []
    },
    {
      "cell_type": "code",
      "source": [
        "errors_squared"
      ],
      "metadata": {
        "colab": {
          "base_uri": "https://localhost:8080/"
        },
        "id": "YjDXncQPVlqJ",
        "outputId": "2ca88378-b5f8-4a77-cecc-12a1d2be7a7a"
      },
      "execution_count": 19,
      "outputs": [
        {
          "output_type": "execute_result",
          "data": {
            "text/plain": [
              "array([0.07516223, 0.0039591 , 0.01      , 0.06912764, 0.00549931])"
            ]
          },
          "metadata": {},
          "execution_count": 19
        }
      ]
    },
    {
      "cell_type": "code",
      "source": [
        "total_errors_squared = np.sum(np.square(y_test - y_pred))"
      ],
      "metadata": {
        "id": "AKnzbR7HQhHf"
      },
      "execution_count": 20,
      "outputs": []
    },
    {
      "cell_type": "code",
      "source": [
        "total_errors_squared"
      ],
      "metadata": {
        "colab": {
          "base_uri": "https://localhost:8080/"
        },
        "id": "5_Fofcq0S4kx",
        "outputId": "83e7bec1-c59a-4ed1-b4fa-7e22092bd536"
      },
      "execution_count": 21,
      "outputs": [
        {
          "output_type": "execute_result",
          "data": {
            "text/plain": [
              "0.16374826410806567"
            ]
          },
          "metadata": {},
          "execution_count": 21
        }
      ]
    },
    {
      "cell_type": "code",
      "source": [
        "# mean square error \n",
        "np.square(y_test - y_pred).mean()"
      ],
      "metadata": {
        "colab": {
          "base_uri": "https://localhost:8080/"
        },
        "id": "AmtDbhClN71I",
        "outputId": "25c07bac-44ad-4202-b829-795634a57e0d"
      },
      "execution_count": 22,
      "outputs": [
        {
          "output_type": "execute_result",
          "data": {
            "text/plain": [
              "0.032749652821613136"
            ]
          },
          "metadata": {},
          "execution_count": 22
        }
      ]
    },
    {
      "cell_type": "code",
      "source": [
        "# R^2\n",
        "1-(np.square(y_test - y_pred).sum())/np.square(y_test - y_test.mean()).sum()"
      ],
      "metadata": {
        "colab": {
          "base_uri": "https://localhost:8080/"
        },
        "id": "_fctHoApN-Dg",
        "outputId": "2880d58e-83f2-4045-9e15-43a604476ed6"
      },
      "execution_count": 23,
      "outputs": [
        {
          "output_type": "execute_result",
          "data": {
            "text/plain": [
              "0.9995875358586699"
            ]
          },
          "metadata": {},
          "execution_count": 23
        }
      ]
    },
    {
      "cell_type": "markdown",
      "source": [
        "#### Bonus 2: Plot the errors as a histogram"
      ],
      "metadata": {
        "id": "ojVobjtBwK9o"
      }
    },
    {
      "cell_type": "code",
      "source": [
        "name = ['Errors']\n",
        "errors = np.random.randn(100000,)\n",
        "plt.title(\"Errors\")\n",
        "plt.hist(errors,10);"
      ],
      "metadata": {
        "id": "WJkR3s9kwujU",
        "colab": {
          "base_uri": "https://localhost:8080/",
          "height": 281
        },
        "outputId": "6ff8c4f3-2e98-4a92-a360-1f0e63647adc"
      },
      "execution_count": 24,
      "outputs": [
        {
          "output_type": "display_data",
          "data": {
            "text/plain": [
              "<Figure size 432x288 with 1 Axes>"
            ],
            "image/png": "[encoded data removed]"
          },
          "metadata": {
            "needs_background": "light"
          }
        }
      ]
    },
    {
      "cell_type": "markdown",
      "source": [
        "What distribution does this histogram look like?"
      ],
      "metadata": {
        "id": "k9nm1qADyFiA"
      }
    },
    {
      "cell_type": "markdown",
      "source": [
        "**Answer:**\\\n",
        "A bell curve"
      ],
      "metadata": {
        "id": "r2Vo3k0xyKiK"
      }
    },
    {
      "cell_type": "markdown",
      "source": [
        "#### Bonus 3: Find the circle with the largest error. \n",
        "Hint: use np.max"
      ],
      "metadata": {
        "id": "qfDuImTvrF5V"
      }
    },
    {
      "cell_type": "code",
      "source": [
        "largest_error = np.max(errors)"
      ],
      "metadata": {
        "id": "k7ShpKK6vWrH"
      },
      "execution_count": 25,
      "outputs": []
    },
    {
      "cell_type": "code",
      "source": [
        "largest_error"
      ],
      "metadata": {
        "colab": {
          "base_uri": "https://localhost:8080/"
        },
        "id": "6dFx1icEZUmO",
        "outputId": "f0ffc5a0-f9ff-448a-de93-49edd6cb0713"
      },
      "execution_count": 26,
      "outputs": [
        {
          "output_type": "execute_result",
          "data": {
            "text/plain": [
              "4.488527439710641"
            ]
          },
          "metadata": {},
          "execution_count": 26
        }
      ]
    },
    {
      "cell_type": "markdown",
      "source": [
        "#### Bonus 4: Remove the circle with the largest error and run the fit again.\n"
      ],
      "metadata": {
        "id": "oQCq4D4uwZ7I"
      }
    },
    {
      "cell_type": "code",
      "source": [
        "X_train = np.array([12,9,20,7,2]).reshape(-1, 1)\n",
        "y_train = np.array([38,28,63,22,6])\n",
        "X_test =  np.array([6,8,10,14]).reshape(-1, 1)\n",
        "y_test =  np.array([19,25,31.5,44])"
      ],
      "metadata": {
        "id": "eCEWj4vgf336"
      },
      "execution_count": 27,
      "outputs": []
    },
    {
      "cell_type": "code",
      "source": [
        "# Create linear regression object\n",
        "regr = linear_model.LinearRegression()\n",
        "\n",
        "# Train the model using the training sets\n",
        "regr.fit(X_train, y_train)\n",
        "\n",
        "# Make predictions using the testing set\n",
        "y_pred = regr.predict(X_test)\n",
        "\n",
        "# The coefficients\n",
        "print('Coefficients: \\n', regr.coef_)\n",
        "# The mean squared error\n",
        "print('Mean squared error: %.2f'\n",
        "      % mean_squared_error(y_test, y_pred))\n",
        "# The coefficient of determination: 1 is perfect prediction\n",
        "print('Coefficient of determination: %.2f'\n",
        "      % r2_score(y_test, y_pred))\n",
        "\n",
        "# Plot outputs\n",
        "plt.figure(figsize=(12, 8))\n",
        "plt.scatter(X_test, y_test,  color='black', alpha = 0.5)\n",
        "plt.plot(X_test, y_pred, color='red', linewidth=3, alpha = 0.8)\n",
        "plt.title(\"Fit Errors\")\n",
        "plt.xlabel(\"Diameter\")\n",
        "plt.ylabel(\"Squared Error\")\n",
        "plt.show()"
      ],
      "metadata": {
        "colab": {
          "base_uri": "https://localhost:8080/",
          "height": 581
        },
        "id": "zH11b1JvgITP",
        "outputId": "57189191-97de-4f51-e6a6-b627b344602f"
      },
      "execution_count": 28,
      "outputs": [
        {
          "output_type": "stream",
          "name": "stdout",
          "text": [
            "Coefficients: \n",
            " [3.16853933]\n",
            "Mean squared error: 0.02\n",
            "Coefficient of determination: 1.00\n"
          ]
        },
        {
          "output_type": "display_data",
          "data": {
            "text/plain": [
              "<Figure size 864x576 with 1 Axes>"
            ],
            "image/png": "[encoded data removed]"
          },
          "metadata": {
            "needs_background": "light"
          }
        }
      ]
    },
    {
      "cell_type": "code",
      "source": [
        "error_diff = 0.03 - 0.02"
      ],
      "metadata": {
        "id": "XCve8ErefYZx"
      },
      "execution_count": 29,
      "outputs": []
    },
    {
      "cell_type": "code",
      "source": [
        "error_diff"
      ],
      "metadata": {
        "colab": {
          "base_uri": "https://localhost:8080/"
        },
        "id": "MrW-F4S1hFxp",
        "outputId": "e3499209-e489-4fda-d89d-d8dacb537668"
      },
      "execution_count": 30,
      "outputs": [
        {
          "output_type": "execute_result",
          "data": {
            "text/plain": [
              "0.009999999999999998"
            ]
          },
          "metadata": {},
          "execution_count": 30
        }
      ]
    },
    {
      "cell_type": "markdown",
      "source": [
        "What is the difference in your error?"
      ],
      "metadata": {
        "id": "V2jyayR-yOvF"
      }
    },
    {
      "cell_type": "markdown",
      "source": [
        "0.009999999999999998"
      ],
      "metadata": {
        "id": "F1ZCdkHyyY9x"
      }
    },
    {
      "cell_type": "markdown",
      "source": [
        "#### Bonus 5: Find and explain a better method of fitting this data"
      ],
      "metadata": {
        "id": "1y-okVy_w22o"
      }
    },
    {
      "cell_type": "markdown",
      "source": [
        "This can be done through linear regression from the sklearn directory"
      ],
      "metadata": {
        "id": "o8hBTyHfbReR"
      }
    }
  ]
}