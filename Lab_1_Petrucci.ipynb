{
  "nbformat": 4,
  "nbformat_minor": 0,
  "metadata": {
    "colab": {
      "provenance": [],
      "authorship_tag": "ABX9TyPk96Ck7TTX8byFKNcNn32U",
      "include_colab_link": true
    },
    "kernelspec": {
      "name": "python3",
      "display_name": "Python 3"
    },
    "language_info": {
      "name": "python"
    }
  },
  "cells": [
    {
      "cell_type": "markdown",
      "metadata": {
        "id": "view-in-github",
        "colab_type": "text"
      },
      "source": [
        "<a href=\"https://colab.research.google.com/github/joepetrucci11/Data-Sci/blob/main/Lab_1_Petrucci.ipynb\" target=\"_parent\"><img src=\"https://colab.research.google.com/assets/colab-badge.svg\" alt=\"Open In Colab\"/></a>"
      ]
    },
    {
      "cell_type": "markdown",
      "source": [
        "#Lab 1 Notes "
      ],
      "metadata": {
        "id": "xtgAK63s25lR"
      }
    },
    {
      "cell_type": "code",
      "execution_count": 1,
      "metadata": {
        "colab": {
          "base_uri": "https://localhost:8080/"
        },
        "id": "FpLbcRW9wTg6",
        "outputId": "48d1c15b-2d7f-4d0f-8f61-ce4263a0a966"
      },
      "outputs": [
        {
          "output_type": "execute_result",
          "data": {
            "text/plain": [
              "4"
            ]
          },
          "metadata": {},
          "execution_count": 1
        }
      ],
      "source": [
        "2+2 # here we are doing simple addition using +"
      ]
    },
    {
      "cell_type": "code",
      "source": [
        "2*2 # here we are doing simple multiplication using *"
      ],
      "metadata": {
        "colab": {
          "base_uri": "https://localhost:8080/"
        },
        "id": "lRQFl2D7xJB0",
        "outputId": "2af42d03-20fe-473b-9b9c-36735e3121eb"
      },
      "execution_count": 2,
      "outputs": [
        {
          "output_type": "execute_result",
          "data": {
            "text/plain": [
              "4"
            ]
          },
          "metadata": {},
          "execution_count": 2
        }
      ]
    },
    {
      "cell_type": "code",
      "source": [
        "2**8 # here we are raising 2 to the 8th power "
      ],
      "metadata": {
        "colab": {
          "base_uri": "https://localhost:8080/"
        },
        "id": "OpsXZkZMxJUh",
        "outputId": "46e5c2e3-6f56-4d61-ca3c-c4129201ed62"
      },
      "execution_count": 3,
      "outputs": [
        {
          "output_type": "execute_result",
          "data": {
            "text/plain": [
              "256"
            ]
          },
          "metadata": {},
          "execution_count": 3
        }
      ]
    },
    {
      "cell_type": "code",
      "source": [
        "2**12345 # double carrot means to the power"
      ],
      "metadata": {
        "colab": {
          "base_uri": "https://localhost:8080/"
        },
        "id": "deX14qABxJZo",
        "outputId": "47f720bd-ea00-4a02-c4eb-15bf8db978e3"
      },
      "execution_count": 4,
      "outputs": [
        {
          "output_type": "execute_result",
          "data": {
            "text/plain": [
              "164171010688258216356020741663906501410127235530735881272116103087925094171390144280159034536439457734870419127140401667195510331085657185332721089236401193044493457116299768844344303479235489462436380672117015123283299131391904179287678259173308536738761981139958654880852234908448338817289014166774169869251339379828599748492918775437864739032217778051333882990074116246281269364933724892342134504702491040016637557429810893780765197418589477584716543480995722533317862352141459217781316266211186486157019262080414077670264642736018426998113523445732680856144329876972273300703392584997729207197971083945700345494092400147186997307012069454068489589035676979448169848060836924945824197706493306108258511936030341393221586423523264452449403781993352421885094664052270795527632721896121424813173522474674395886155092203404036730748474781710715745446135468098139831824083259647919175273503681561172684624283384438504776503000432241604550454374116320822227191911322123484085063926350606342197146407841178028071147192533942517270553513988142925976090769695456221159699052583533011331652079347093098173086975483539274464023357456484465482927479569437320368592222760278170306076733438801098370797675711274671054970711442158930561684343135774118741594506702833147396758825015850042983343690345185995956235143825771620543546030664562647854656431302644574119873820215595718618624485232422006575550007068883734241454686368856734496265385908809403972494685137741122866896719678053937285818409751670320140501843039224040735870096889596273419106389103662095318937990625980136711988237421962315266686856089505981438440850638067589321141759499017023839596858455548192000140085142294166987063499024792681334843159790936321351919859758669569200541507612099780909705198902176026219872201715422096090343686272984351441594569506778041062663266799342793856313801540959815845788584759033248828248561586450271172777240971795656082001848115815260930521663167480173886064019118572778281516735157779555888167787064432558595410843987446497881666288423233170060413025924629950477303342180149398926073618582715358742250388958231281694757980523791263699450732952325727664209947786063982561775327638504516918570101319391698412388607603742484414748268389669129118026878969735782286841116842656410574647607524418900720328045377993386279808768990376289424757351052369393977137871998119168898493037938756635621557623138404459266598837784229325799838782026060481496865561757031839002257091802876949248392744175669112242088439883248336310597001257385980776961529351198877747193531054956881808332177946751404038228718567911769630971553915410012677600002457982207465176670752102117002773980548089696530972476439694599881281812973217265853884727906535479745854085338851105144585481994156206497436745899944877732531412541279014300324594890623941145509856940982863769834430048120562966797907114102689879364945689860493474954538422367719507882513166051007352994068319251450666676648368200564329382998758875760414259654004977261309988267319806354856051784553990936610634733375984159028722378614984450255386315585631994503350002142910493190254825610707400589976364985748467955131077971641882672895854571236368282811336220769174784720113331269084746524204124263475054112841630933586166195036115696469686075600480420563557567616835633252622327172811002146392754445051182169805284630259703542633955126179520113059629914229833688535925729676778028406897316106101038469119090984567152591962365415039646394591503830797626339246986057077758611413664914168745375266786298141171496573941614387744125843685677063619782918759823106021054037757857761587472240835040580447360544029064930412569943169729238102162312218687930203068055400275795180972382856696655279408212344832"
            ]
          },
          "metadata": {},
          "execution_count": 4
        }
      ]
    },
    {
      "cell_type": "code",
      "source": [
        "4.7876 + 9.87654 # here we are doing addition of decimals using +"
      ],
      "metadata": {
        "colab": {
          "base_uri": "https://localhost:8080/"
        },
        "id": "AkGYcfFxxiD1",
        "outputId": "4aff6037-0938-43e7-c80e-9757074c1189"
      },
      "execution_count": 5,
      "outputs": [
        {
          "output_type": "execute_result",
          "data": {
            "text/plain": [
              "14.66414"
            ]
          },
          "metadata": {},
          "execution_count": 5
        }
      ]
    },
    {
      "cell_type": "code",
      "source": [
        "4.7876 * 9.87654 # here we are doing multiplication of decimals using *"
      ],
      "metadata": {
        "colab": {
          "base_uri": "https://localhost:8080/"
        },
        "id": "fzcQxsDsxp8T",
        "outputId": "68f39c27-303a-4713-b54c-1180082cc045"
      },
      "execution_count": 6,
      "outputs": [
        {
          "output_type": "execute_result",
          "data": {
            "text/plain": [
              "47.284922904000005"
            ]
          },
          "metadata": {},
          "execution_count": 6
        }
      ]
    },
    {
      "cell_type": "code",
      "source": [
        "4.7876 / 9.87654 # here we doing division of decimals using /"
      ],
      "metadata": {
        "colab": {
          "base_uri": "https://localhost:8080/"
        },
        "id": "YAHHKC9QxvTC",
        "outputId": "e7ca13ae-eca4-41e6-a5e3-c080fb40d4bf"
      },
      "execution_count": 7,
      "outputs": [
        {
          "output_type": "execute_result",
          "data": {
            "text/plain": [
              "0.48474465754201373"
            ]
          },
          "metadata": {},
          "execution_count": 7
        }
      ]
    },
    {
      "cell_type": "code",
      "source": [
        "# This is a comment which is used to document your work. This line is not run since it is simply an explanation"
      ],
      "metadata": {
        "id": "GHEtP2AmxzmZ"
      },
      "execution_count": 8,
      "outputs": []
    },
    {
      "cell_type": "code",
      "source": [
        "8/4 # single slash involves decimals when dividing"
      ],
      "metadata": {
        "colab": {
          "base_uri": "https://localhost:8080/"
        },
        "id": "6J-ojmUHx3YZ",
        "outputId": "3411cdbb-86a7-4ef9-f243-f3e87403158d"
      },
      "execution_count": 9,
      "outputs": [
        {
          "output_type": "execute_result",
          "data": {
            "text/plain": [
              "2.0"
            ]
          },
          "metadata": {},
          "execution_count": 9
        }
      ]
    },
    {
      "cell_type": "code",
      "source": [
        "8//4 # double slash ignores decimals when dividing"
      ],
      "metadata": {
        "colab": {
          "base_uri": "https://localhost:8080/"
        },
        "id": "NjCX4-Xgx8Bl",
        "outputId": "c262f96a-8bd0-42d8-d8a2-65b5dd7e8037"
      },
      "execution_count": 10,
      "outputs": [
        {
          "output_type": "execute_result",
          "data": {
            "text/plain": [
              "2"
            ]
          },
          "metadata": {},
          "execution_count": 10
        }
      ]
    },
    {
      "cell_type": "code",
      "source": [
        "13%12 # % is used like a clock for military time"
      ],
      "metadata": {
        "colab": {
          "base_uri": "https://localhost:8080/"
        },
        "id": "3NO99kPSx_Na",
        "outputId": "c73d32db-377f-4eb5-b92c-a30dd04652e8"
      },
      "execution_count": 11,
      "outputs": [
        {
          "output_type": "execute_result",
          "data": {
            "text/plain": [
              "1"
            ]
          },
          "metadata": {},
          "execution_count": 11
        }
      ]
    },
    {
      "cell_type": "code",
      "source": [
        "22%12 # this shows the remainder after the 1st number is divided by the 2nd number"
      ],
      "metadata": {
        "colab": {
          "base_uri": "https://localhost:8080/"
        },
        "id": "TlYGI5lpyQCF",
        "outputId": "5a92935e-b517-4ca2-996e-1d3eb2072cba"
      },
      "execution_count": 12,
      "outputs": [
        {
          "output_type": "execute_result",
          "data": {
            "text/plain": [
              "10"
            ]
          },
          "metadata": {},
          "execution_count": 12
        }
      ]
    },
    {
      "cell_type": "code",
      "source": [
        "44%6 # 6 can go into 44 seven times leaving us with a remainder of 2"
      ],
      "metadata": {
        "colab": {
          "base_uri": "https://localhost:8080/"
        },
        "id": "ctk7Mw9dcN78",
        "outputId": "1460ebb0-4352-413b-cb55-a6d5d6ed01be"
      },
      "execution_count": 13,
      "outputs": [
        {
          "output_type": "execute_result",
          "data": {
            "text/plain": [
              "2"
            ]
          },
          "metadata": {},
          "execution_count": 13
        }
      ]
    },
    {
      "cell_type": "markdown",
      "source": [
        "# Variables\n"
      ],
      "metadata": {
        "id": "DSnM23_9yVdB"
      }
    },
    {
      "cell_type": "code",
      "source": [
        "apples = 5 # apples is a variable"
      ],
      "metadata": {
        "id": "m6NJLuNyylDm"
      },
      "execution_count": 14,
      "outputs": []
    },
    {
      "cell_type": "code",
      "source": [
        "apples # this shows the value that the variable apples is holding"
      ],
      "metadata": {
        "colab": {
          "base_uri": "https://localhost:8080/"
        },
        "id": "_sQhxt8uyoCP",
        "outputId": "8a21c68e-02c8-4eb9-a9d9-9192cf5c93d7"
      },
      "execution_count": 15,
      "outputs": [
        {
          "output_type": "execute_result",
          "data": {
            "text/plain": [
              "5"
            ]
          },
          "metadata": {},
          "execution_count": 15
        }
      ]
    },
    {
      "cell_type": "code",
      "source": [
        "oranges = 8 # oranges is another variable "
      ],
      "metadata": {
        "id": "XRQLQn8aypV0"
      },
      "execution_count": 16,
      "outputs": []
    },
    {
      "cell_type": "code",
      "source": [
        "oranges # this shows the value that oranges is holding "
      ],
      "metadata": {
        "colab": {
          "base_uri": "https://localhost:8080/"
        },
        "id": "18yW-N8czH5j",
        "outputId": "dcf14ec2-6794-4e88-f4d8-a62646bed6d7"
      },
      "execution_count": 17,
      "outputs": [
        {
          "output_type": "execute_result",
          "data": {
            "text/plain": [
              "8"
            ]
          },
          "metadata": {},
          "execution_count": 17
        }
      ]
    },
    {
      "cell_type": "code",
      "source": [
        "apples + oranges # here we are adding the variables apples and oranges together \n"
      ],
      "metadata": {
        "colab": {
          "base_uri": "https://localhost:8080/"
        },
        "id": "BaqioW55ywKB",
        "outputId": "30f7a6cc-088c-44b8-df9b-50446e684737"
      },
      "execution_count": 18,
      "outputs": [
        {
          "output_type": "execute_result",
          "data": {
            "text/plain": [
              "13"
            ]
          },
          "metadata": {},
          "execution_count": 18
        }
      ]
    },
    {
      "cell_type": "code",
      "source": [
        "total = apples + oranges # total is a variable consisting of other variables "
      ],
      "metadata": {
        "id": "kBXQC_dRyzZy"
      },
      "execution_count": 19,
      "outputs": []
    },
    {
      "cell_type": "code",
      "source": [
        "total # this shows the value that total is storing"
      ],
      "metadata": {
        "colab": {
          "base_uri": "https://localhost:8080/"
        },
        "id": "-sZwHBcAy3mH",
        "outputId": "a9a00779-0b39-4bde-95b8-926317ce623f"
      },
      "execution_count": 20,
      "outputs": [
        {
          "output_type": "execute_result",
          "data": {
            "text/plain": [
              "13"
            ]
          },
          "metadata": {},
          "execution_count": 20
        }
      ]
    },
    {
      "cell_type": "code",
      "source": [
        "apples**2 # here we are squaring the value that the variable apples is holding"
      ],
      "metadata": {
        "colab": {
          "base_uri": "https://localhost:8080/"
        },
        "id": "xQGob-_bzTZw",
        "outputId": "e5c3a41e-2f40-4db0-82b0-769cd752493c"
      },
      "execution_count": 21,
      "outputs": [
        {
          "output_type": "execute_result",
          "data": {
            "text/plain": [
              "25"
            ]
          },
          "metadata": {},
          "execution_count": 21
        }
      ]
    },
    {
      "cell_type": "code",
      "source": [
        "cost_per_apple = 0.25 # here we are storing a decimal value in a vraible "
      ],
      "metadata": {
        "id": "r6QcQty4zj9w"
      },
      "execution_count": 22,
      "outputs": []
    },
    {
      "cell_type": "code",
      "source": [
        "total_apple_cost = apples * cost_per_apple # here we are storing the product of two variables in a variable named toal_apple_cost"
      ],
      "metadata": {
        "id": "NEIW7JTCzrPA"
      },
      "execution_count": 23,
      "outputs": []
    },
    {
      "cell_type": "code",
      "source": [
        "total_apple_cost # variable names cannot have spaces so instead we use underscores to achieve the effect of a space"
      ],
      "metadata": {
        "colab": {
          "base_uri": "https://localhost:8080/"
        },
        "id": "fi8oUXMAz_kY",
        "outputId": "46a60dd5-4c4a-44d2-e52f-607e0209f56f"
      },
      "execution_count": 24,
      "outputs": [
        {
          "output_type": "execute_result",
          "data": {
            "text/plain": [
              "1.25"
            ]
          },
          "metadata": {},
          "execution_count": 24
        }
      ]
    },
    {
      "cell_type": "code",
      "source": [
        "shirt_cost = 25 # here we are storing a whole number in a variable"
      ],
      "metadata": {
        "id": "4SxZTXLZ0ISO"
      },
      "execution_count": 25,
      "outputs": []
    },
    {
      "cell_type": "code",
      "source": [
        "pants_cost = 45 # here we are storing a whole number in a variable"
      ],
      "metadata": {
        "id": "P-3xHyJl0aiV"
      },
      "execution_count": 26,
      "outputs": []
    },
    {
      "cell_type": "code",
      "source": [
        "shoes_cost = 90 # here we are storing a whole number in a variable"
      ],
      "metadata": {
        "id": "411HYdDb0jyC"
      },
      "execution_count": 27,
      "outputs": []
    },
    {
      "cell_type": "code",
      "source": [
        "shirts_sold = 12 # here we are storing a whole number in a variable"
      ],
      "metadata": {
        "id": "dSTwf-0Z0nCB"
      },
      "execution_count": 28,
      "outputs": []
    },
    {
      "cell_type": "code",
      "source": [
        "pants_sold = 15 # here we are storing a whole number in a variable"
      ],
      "metadata": {
        "id": "-BlSEU0K0qL_"
      },
      "execution_count": 29,
      "outputs": []
    },
    {
      "cell_type": "code",
      "source": [
        "shoes_sold = 7 # here we are storing a whole number in a variable"
      ],
      "metadata": {
        "id": "8OIovXD50vW_"
      },
      "execution_count": 30,
      "outputs": []
    },
    {
      "cell_type": "code",
      "source": [
        "total_sales = ( shirt_cost * shirts_sold ) + ( pants_cost * pants_sold ) + ( shoes_cost * shoes_sold ) #brackets are used to separate operations"
      ],
      "metadata": {
        "id": "3yF3Cap_0z4D"
      },
      "execution_count": 31,
      "outputs": []
    },
    {
      "cell_type": "code",
      "source": [
        "total_sales #note this is in dollars"
      ],
      "metadata": {
        "colab": {
          "base_uri": "https://localhost:8080/"
        },
        "id": "cfvDEUC81TaX",
        "outputId": "b09cb540-8220-48e8-b7e8-5eb96dcf0145"
      },
      "execution_count": 32,
      "outputs": [
        {
          "output_type": "execute_result",
          "data": {
            "text/plain": [
              "1605"
            ]
          },
          "metadata": {},
          "execution_count": 32
        }
      ]
    },
    {
      "cell_type": "code",
      "source": [
        "total_shirt_sales = ( shirt_cost * shirts_sold ) # here we are simply separating the individual operations"
      ],
      "metadata": {
        "id": "8K05bNgN1zya"
      },
      "execution_count": 33,
      "outputs": []
    },
    {
      "cell_type": "code",
      "source": [
        "total_shirt_sales # here we are displaying the value that the variable total_shirt_sales holds"
      ],
      "metadata": {
        "colab": {
          "base_uri": "https://localhost:8080/"
        },
        "id": "BIxZkkeo2LTb",
        "outputId": "f33153b0-f537-4f4c-bb3b-706a7c2abed5"
      },
      "execution_count": 34,
      "outputs": [
        {
          "output_type": "execute_result",
          "data": {
            "text/plain": [
              "300"
            ]
          },
          "metadata": {},
          "execution_count": 34
        }
      ]
    },
    {
      "cell_type": "code",
      "source": [
        "total_pants_sales = ( pants_cost * pants_sold ) # here we are simply separating the individual operations"
      ],
      "metadata": {
        "id": "tstL9epJ2NNg"
      },
      "execution_count": 35,
      "outputs": []
    },
    {
      "cell_type": "code",
      "source": [
        "total_pants_sales # here we are displaying the value that the variable total_pants_sales holds"
      ],
      "metadata": {
        "colab": {
          "base_uri": "https://localhost:8080/"
        },
        "id": "hIZFShe22XV0",
        "outputId": "284825c0-597b-4002-ca91-6a11064d470a"
      },
      "execution_count": 36,
      "outputs": [
        {
          "output_type": "execute_result",
          "data": {
            "text/plain": [
              "675"
            ]
          },
          "metadata": {},
          "execution_count": 36
        }
      ]
    },
    {
      "cell_type": "code",
      "source": [
        "total_shoes_sales = ( shoes_cost * shoes_sold ) # here we are simply separating the individual operations"
      ],
      "metadata": {
        "id": "Zm-_169U2aKt"
      },
      "execution_count": 37,
      "outputs": []
    },
    {
      "cell_type": "code",
      "source": [
        "total_shoes_sales # here we are displaying the value that the variable total_shoes_sales holds"
      ],
      "metadata": {
        "colab": {
          "base_uri": "https://localhost:8080/"
        },
        "id": "d6fvgHvo2gxq",
        "outputId": "e9b985cb-535c-40d4-c1f2-26b01706d061"
      },
      "execution_count": 38,
      "outputs": [
        {
          "output_type": "execute_result",
          "data": {
            "text/plain": [
              "630"
            ]
          },
          "metadata": {},
          "execution_count": 38
        }
      ]
    },
    {
      "cell_type": "markdown",
      "source": [
        "#Vectors"
      ],
      "metadata": {
        "id": "Chj1SzRe2j-w"
      }
    },
    {
      "cell_type": "code",
      "source": [
        "import numpy as np #numpy is a set of tools"
      ],
      "metadata": {
        "id": "kkzg9NOb21gg"
      },
      "execution_count": 39,
      "outputs": []
    },
    {
      "cell_type": "code",
      "source": [
        "import matplotlib.pyplot as plt #matplot.lib is also a set of tools"
      ],
      "metadata": {
        "id": "IzZL8UY63Ohj"
      },
      "execution_count": 40,
      "outputs": []
    },
    {
      "cell_type": "code",
      "source": [
        " np.arange(10) # this is an array with ten numbers. Note that with python it starts counting from 0"
      ],
      "metadata": {
        "colab": {
          "base_uri": "https://localhost:8080/"
        },
        "id": "v6EViuzZ3Xn1",
        "outputId": "d8e9f948-d3d5-4bf1-81aa-9c2eb14118d8"
      },
      "execution_count": 41,
      "outputs": [
        {
          "output_type": "execute_result",
          "data": {
            "text/plain": [
              "array([0, 1, 2, 3, 4, 5, 6, 7, 8, 9])"
            ]
          },
          "metadata": {},
          "execution_count": 41
        }
      ]
    },
    {
      "cell_type": "code",
      "source": [
        "x = np.arange(10) # here we are assigning an array with 10 numbers to a variable x"
      ],
      "metadata": {
        "id": "n7hqskcS4DR_"
      },
      "execution_count": 42,
      "outputs": []
    },
    {
      "cell_type": "code",
      "source": [
        "x # here we are displaying the values of the array that the variable x holds "
      ],
      "metadata": {
        "colab": {
          "base_uri": "https://localhost:8080/"
        },
        "id": "E37CySOM4eZ6",
        "outputId": "07408ddc-5cae-4756-cccf-48776e12f51f"
      },
      "execution_count": 43,
      "outputs": [
        {
          "output_type": "execute_result",
          "data": {
            "text/plain": [
              "array([0, 1, 2, 3, 4, 5, 6, 7, 8, 9])"
            ]
          },
          "metadata": {},
          "execution_count": 43
        }
      ]
    },
    {
      "cell_type": "code",
      "source": [
        "x + 1 # this was called parallel computing"
      ],
      "metadata": {
        "colab": {
          "base_uri": "https://localhost:8080/"
        },
        "id": "n9s6alwh4h5Z",
        "outputId": "9a5380cf-f8c2-4158-c4ae-d76ca54ed6b9"
      },
      "execution_count": 44,
      "outputs": [
        {
          "output_type": "execute_result",
          "data": {
            "text/plain": [
              "array([ 1,  2,  3,  4,  5,  6,  7,  8,  9, 10])"
            ]
          },
          "metadata": {},
          "execution_count": 44
        }
      ]
    },
    {
      "cell_type": "code",
      "source": [
        "x * 2 # here we are multiplying the values of the array that the variable x holds by 2"
      ],
      "metadata": {
        "colab": {
          "base_uri": "https://localhost:8080/"
        },
        "id": "qyzwoh844h8O",
        "outputId": "8f42d41f-8f2e-4145-8118-7fd555a8428a"
      },
      "execution_count": 45,
      "outputs": [
        {
          "output_type": "execute_result",
          "data": {
            "text/plain": [
              "array([ 0,  2,  4,  6,  8, 10, 12, 14, 16, 18])"
            ]
          },
          "metadata": {},
          "execution_count": 45
        }
      ]
    },
    {
      "cell_type": "code",
      "source": [
        "x ** 2 # here we are squaring the values of the array that the variable x "
      ],
      "metadata": {
        "colab": {
          "base_uri": "https://localhost:8080/"
        },
        "id": "CK-zn3rP4h-7",
        "outputId": "aebaa46d-9ea8-4cec-d3d6-48f7276e0cdb"
      },
      "execution_count": 46,
      "outputs": [
        {
          "output_type": "execute_result",
          "data": {
            "text/plain": [
              "array([ 0,  1,  4,  9, 16, 25, 36, 49, 64, 81])"
            ]
          },
          "metadata": {},
          "execution_count": 46
        }
      ]
    },
    {
      "cell_type": "code",
      "source": [
        "y = 3 * x + 5 # here we are multiplying the values stored in array x by 3 then adding 5 to the product and storing the result in an array called y"
      ],
      "metadata": {
        "id": "sPMvRpc44iBY"
      },
      "execution_count": 47,
      "outputs": []
    },
    {
      "cell_type": "code",
      "source": [
        "x # here we are displaying the values that the array x holds"
      ],
      "metadata": {
        "colab": {
          "base_uri": "https://localhost:8080/"
        },
        "id": "aeqgdraM48ei",
        "outputId": "bdc3cfef-94d3-4779-e95a-902dfa316c51"
      },
      "execution_count": 48,
      "outputs": [
        {
          "output_type": "execute_result",
          "data": {
            "text/plain": [
              "array([0, 1, 2, 3, 4, 5, 6, 7, 8, 9])"
            ]
          },
          "metadata": {},
          "execution_count": 48
        }
      ]
    },
    {
      "cell_type": "code",
      "source": [
        "y # here we are displaying the values that the array y holds"
      ],
      "metadata": {
        "colab": {
          "base_uri": "https://localhost:8080/"
        },
        "id": "jKfONp2i4_Sk",
        "outputId": "50b50ac3-b5e3-446f-de89-27d4bae68a6e"
      },
      "execution_count": 49,
      "outputs": [
        {
          "output_type": "execute_result",
          "data": {
            "text/plain": [
              "array([ 5,  8, 11, 14, 17, 20, 23, 26, 29, 32])"
            ]
          },
          "metadata": {},
          "execution_count": 49
        }
      ]
    },
    {
      "cell_type": "code",
      "source": [
        "plt.plot(x,y) # x is the dependent variable and y is the independent variable"
      ],
      "metadata": {
        "colab": {
          "base_uri": "https://localhost:8080/",
          "height": 282
        },
        "id": "TEyNUJei4_vv",
        "outputId": "f3a3d657-7ca4-452f-e11a-6ca19c8b5e63"
      },
      "execution_count": 50,
      "outputs": [
        {
          "output_type": "execute_result",
          "data": {
            "text/plain": [
              "[<matplotlib.lines.Line2D at 0x7efdc9d7d410>]"
            ]
          },
          "metadata": {},
          "execution_count": 50
        },
        {
          "output_type": "display_data",
          "data": {
            "text/plain": [
              "<Figure size 432x288 with 1 Axes>"
            ],
            "image/png": "[encoded data removed]"
          },
          "metadata": {
            "needs_background": "light"
          }
        }
      ]
    },
    {
      "cell_type": "code",
      "source": [
        "plt.plot (x,y,'.') # We are using matplot with x as the dependent variable and y as the independent variable and the comma dot to plot a the array using dots "
      ],
      "metadata": {
        "colab": {
          "base_uri": "https://localhost:8080/",
          "height": 282
        },
        "id": "HEqzmFxg5L65",
        "outputId": "972ba8c0-354b-4b78-c7b8-6b67da8e3ad4"
      },
      "execution_count": 51,
      "outputs": [
        {
          "output_type": "execute_result",
          "data": {
            "text/plain": [
              "[<matplotlib.lines.Line2D at 0x7efdc984cd10>]"
            ]
          },
          "metadata": {},
          "execution_count": 51
        },
        {
          "output_type": "display_data",
          "data": {
            "text/plain": [
              "<Figure size 432x288 with 1 Axes>"
            ],
            "image/png": "[encoded data removed]"
          },
          "metadata": {
            "needs_background": "light"
          }
        }
      ]
    },
    {
      "cell_type": "code",
      "source": [
        "plt.plot (x,y,'r.') # Here we have changed the color of the dots by adding a letter infront of the dot. If you want green dots then use 'g.' "
      ],
      "metadata": {
        "colab": {
          "base_uri": "https://localhost:8080/",
          "height": 282
        },
        "id": "m_aXuqgQ6FN-",
        "outputId": "43250263-b5a6-44ef-f5f7-cf0af5af9f1f"
      },
      "execution_count": 52,
      "outputs": [
        {
          "output_type": "execute_result",
          "data": {
            "text/plain": [
              "[<matplotlib.lines.Line2D at 0x7efdc97c1c10>]"
            ]
          },
          "metadata": {},
          "execution_count": 52
        },
        {
          "output_type": "display_data",
          "data": {
            "text/plain": [
              "<Figure size 432x288 with 1 Axes>"
            ],
            "image/png": "[encoded data removed]"
          },
          "metadata": {
            "needs_background": "light"
          }
        }
      ]
    },
    {
      "cell_type": "code",
      "source": [
        "plt.plot (x,y,'r--') # Here we have changed it from dotts to dashes"
      ],
      "metadata": {
        "colab": {
          "base_uri": "https://localhost:8080/",
          "height": 282
        },
        "id": "OlPFolyf6Twp",
        "outputId": "c8e1dfa5-dddc-4ebf-c141-c9ead606918a"
      },
      "execution_count": 53,
      "outputs": [
        {
          "output_type": "execute_result",
          "data": {
            "text/plain": [
              "[<matplotlib.lines.Line2D at 0x7efdc97b56d0>]"
            ]
          },
          "metadata": {},
          "execution_count": 53
        },
        {
          "output_type": "display_data",
          "data": {
            "text/plain": [
              "<Figure size 432x288 with 1 Axes>"
            ],
            "image/png": "[encoded data removed]"
          },
          "metadata": {
            "needs_background": "light"
          }
        }
      ]
    },
    {
      "cell_type": "code",
      "source": [
        "plt.plot (x,y,'c.') # Here we have changed the color of the dots to cyan by adding c infront of the dot"
      ],
      "metadata": {
        "colab": {
          "base_uri": "https://localhost:8080/",
          "height": 282
        },
        "id": "tGmVIRh56XU7",
        "outputId": "26f505bc-bf94-4e78-c58b-eaa403f11695"
      },
      "execution_count": 54,
      "outputs": [
        {
          "output_type": "execute_result",
          "data": {
            "text/plain": [
              "[<matplotlib.lines.Line2D at 0x7efdc9d25690>]"
            ]
          },
          "metadata": {},
          "execution_count": 54
        },
        {
          "output_type": "display_data",
          "data": {
            "text/plain": [
              "<Figure size 432x288 with 1 Axes>"
            ],
            "image/png": "[encoded data removed]"
          },
          "metadata": {
            "needs_background": "light"
          }
        }
      ]
    },
    {
      "cell_type": "code",
      "source": [
        "plt.plot (x,y,'.',marker = 'o', # here we have created a plot using the different aspects of the plot\n",
        "          linestyle = '-',\n",
        "          markerfacecolor='#333399',\n",
        "          markeredgecolor='k',\n",
        "          label='My Blue values')"
      ],
      "metadata": {
        "colab": {
          "base_uri": "https://localhost:8080/",
          "height": 282
        },
        "id": "7UVN5F2x7Lym",
        "outputId": "cd85ff96-cd20-43dd-c0e2-41d9ce09f59f"
      },
      "execution_count": 55,
      "outputs": [
        {
          "output_type": "execute_result",
          "data": {
            "text/plain": [
              "[<matplotlib.lines.Line2D at 0x7efdc96ef410>]"
            ]
          },
          "metadata": {},
          "execution_count": 55
        },
        {
          "output_type": "display_data",
          "data": {
            "text/plain": [
              "<Figure size 432x288 with 1 Axes>"
            ],
            "image/png": "[encoded data removed]"
          },
          "metadata": {
            "needs_background": "light"
          }
        }
      ]
    },
    {
      "cell_type": "code",
      "source": [
        "plt.plot (x,y,'.',marker = 'x', # we can change the type of dot as well as the color of the plots\n",
        "          linestyle = 'none',\n",
        "          markerfacecolor='#3DD128')\n",
        "          "
      ],
      "metadata": {
        "colab": {
          "base_uri": "https://localhost:8080/",
          "height": 282
        },
        "id": "qlev-Gyu7_j9",
        "outputId": "944da88e-3a0d-407f-e776-79c716007bb9"
      },
      "execution_count": 56,
      "outputs": [
        {
          "output_type": "execute_result",
          "data": {
            "text/plain": [
              "[<matplotlib.lines.Line2D at 0x7efdc9664710>]"
            ]
          },
          "metadata": {},
          "execution_count": 56
        },
        {
          "output_type": "display_data",
          "data": {
            "text/plain": [
              "<Figure size 432x288 with 1 Axes>"
            ],
            "image/png": "[encoded data removed]"
          },
          "metadata": {
            "needs_background": "light"
          }
        }
      ]
    },
    {
      "cell_type": "code",
      "source": [
        "plt.plot (x,y,'.',marker = 'o', # to change the color all we need to do is find the color code \n",
        "          linestyle = 'none',\n",
        "          markerfacecolor='#F60E0E')"
      ],
      "metadata": {
        "colab": {
          "base_uri": "https://localhost:8080/",
          "height": 282
        },
        "id": "tUpp5Xmx8j4Y",
        "outputId": "ece86b57-15fd-4c2d-ca33-c05375bf26bb"
      },
      "execution_count": 57,
      "outputs": [
        {
          "output_type": "execute_result",
          "data": {
            "text/plain": [
              "[<matplotlib.lines.Line2D at 0x7efdc95cb910>]"
            ]
          },
          "metadata": {},
          "execution_count": 57
        },
        {
          "output_type": "display_data",
          "data": {
            "text/plain": [
              "<Figure size 432x288 with 1 Axes>"
            ],
            "image/png": "[encoded data removed]"
          },
          "metadata": {
            "needs_background": "light"
          }
        }
      ]
    },
    {
      "cell_type": "code",
      "source": [
        "x = np.linspace(0,5,10) # here we have the 1st number as the start, the 2nd number as the stop and the 3rd as the amount of numbers in the array"
      ],
      "metadata": {
        "id": "SwyNZNhD9nmy"
      },
      "execution_count": 58,
      "outputs": []
    },
    {
      "cell_type": "code",
      "source": [
        "x # here we are displaying the values that the array x holds"
      ],
      "metadata": {
        "colab": {
          "base_uri": "https://localhost:8080/"
        },
        "id": "HOKxfVSx9uTE",
        "outputId": "a1fd7844-bbcd-4761-dceb-411b3e333e9f"
      },
      "execution_count": 59,
      "outputs": [
        {
          "output_type": "execute_result",
          "data": {
            "text/plain": [
              "array([0.        , 0.55555556, 1.11111111, 1.66666667, 2.22222222,\n",
              "       2.77777778, 3.33333333, 3.88888889, 4.44444444, 5.        ])"
            ]
          },
          "metadata": {},
          "execution_count": 59
        }
      ]
    },
    {
      "cell_type": "code",
      "source": [
        "x = np.linspace(0,10,100) # here we have an array with 100 numbers that starts from 0 and ends at 10"
      ],
      "metadata": {
        "id": "DaY7PFIM9SFV"
      },
      "execution_count": 60,
      "outputs": []
    },
    {
      "cell_type": "code",
      "source": [
        "x # here we are displaying all the values that the array x holds "
      ],
      "metadata": {
        "colab": {
          "base_uri": "https://localhost:8080/"
        },
        "id": "HJCYVq1V9i2d",
        "outputId": "e3c8b88f-064d-499a-cb4a-5f2e81266072"
      },
      "execution_count": 61,
      "outputs": [
        {
          "output_type": "execute_result",
          "data": {
            "text/plain": [
              "array([ 0.        ,  0.1010101 ,  0.2020202 ,  0.3030303 ,  0.4040404 ,\n",
              "        0.50505051,  0.60606061,  0.70707071,  0.80808081,  0.90909091,\n",
              "        1.01010101,  1.11111111,  1.21212121,  1.31313131,  1.41414141,\n",
              "        1.51515152,  1.61616162,  1.71717172,  1.81818182,  1.91919192,\n",
              "        2.02020202,  2.12121212,  2.22222222,  2.32323232,  2.42424242,\n",
              "        2.52525253,  2.62626263,  2.72727273,  2.82828283,  2.92929293,\n",
              "        3.03030303,  3.13131313,  3.23232323,  3.33333333,  3.43434343,\n",
              "        3.53535354,  3.63636364,  3.73737374,  3.83838384,  3.93939394,\n",
              "        4.04040404,  4.14141414,  4.24242424,  4.34343434,  4.44444444,\n",
              "        4.54545455,  4.64646465,  4.74747475,  4.84848485,  4.94949495,\n",
              "        5.05050505,  5.15151515,  5.25252525,  5.35353535,  5.45454545,\n",
              "        5.55555556,  5.65656566,  5.75757576,  5.85858586,  5.95959596,\n",
              "        6.06060606,  6.16161616,  6.26262626,  6.36363636,  6.46464646,\n",
              "        6.56565657,  6.66666667,  6.76767677,  6.86868687,  6.96969697,\n",
              "        7.07070707,  7.17171717,  7.27272727,  7.37373737,  7.47474747,\n",
              "        7.57575758,  7.67676768,  7.77777778,  7.87878788,  7.97979798,\n",
              "        8.08080808,  8.18181818,  8.28282828,  8.38383838,  8.48484848,\n",
              "        8.58585859,  8.68686869,  8.78787879,  8.88888889,  8.98989899,\n",
              "        9.09090909,  9.19191919,  9.29292929,  9.39393939,  9.49494949,\n",
              "        9.5959596 ,  9.6969697 ,  9.7979798 ,  9.8989899 , 10.        ])"
            ]
          },
          "metadata": {},
          "execution_count": 61
        }
      ]
    },
    {
      "cell_type": "code",
      "source": [
        "y = x**2 # here we are storing the square of all the values that array x holds in another array named y"
      ],
      "metadata": {
        "id": "t4F8vOmS9vHL"
      },
      "execution_count": 62,
      "outputs": []
    },
    {
      "cell_type": "code",
      "source": [
        "y # here we are displaying all the values that array y holds"
      ],
      "metadata": {
        "colab": {
          "base_uri": "https://localhost:8080/"
        },
        "id": "aXaBgmP4-O2j",
        "outputId": "8c446cca-4898-4678-80f0-c3ed2c930307"
      },
      "execution_count": 63,
      "outputs": [
        {
          "output_type": "execute_result",
          "data": {
            "text/plain": [
              "array([0.00000000e+00, 1.02030405e-02, 4.08121620e-02, 9.18273646e-02,\n",
              "       1.63248648e-01, 2.55076013e-01, 3.67309458e-01, 4.99948985e-01,\n",
              "       6.52994592e-01, 8.26446281e-01, 1.02030405e+00, 1.23456790e+00,\n",
              "       1.46923783e+00, 1.72431385e+00, 1.99979594e+00, 2.29568411e+00,\n",
              "       2.61197837e+00, 2.94867871e+00, 3.30578512e+00, 3.68329762e+00,\n",
              "       4.08121620e+00, 4.49954086e+00, 4.93827160e+00, 5.39740843e+00,\n",
              "       5.87695133e+00, 6.37690032e+00, 6.89725538e+00, 7.43801653e+00,\n",
              "       7.99918376e+00, 8.58075707e+00, 9.18273646e+00, 9.80512193e+00,\n",
              "       1.04479135e+01, 1.11111111e+01, 1.17947148e+01, 1.24987246e+01,\n",
              "       1.32231405e+01, 1.39679625e+01, 1.47331905e+01, 1.55188246e+01,\n",
              "       1.63248648e+01, 1.71513111e+01, 1.79981635e+01, 1.88654219e+01,\n",
              "       1.97530864e+01, 2.06611570e+01, 2.15896337e+01, 2.25385165e+01,\n",
              "       2.35078053e+01, 2.44975003e+01, 2.55076013e+01, 2.65381084e+01,\n",
              "       2.75890215e+01, 2.86603408e+01, 2.97520661e+01, 3.08641975e+01,\n",
              "       3.19967350e+01, 3.31496786e+01, 3.43230283e+01, 3.55167840e+01,\n",
              "       3.67309458e+01, 3.79655137e+01, 3.92204877e+01, 4.04958678e+01,\n",
              "       4.17916539e+01, 4.31078461e+01, 4.44444444e+01, 4.58014488e+01,\n",
              "       4.71788593e+01, 4.85766758e+01, 4.99948985e+01, 5.14335272e+01,\n",
              "       5.28925620e+01, 5.43720029e+01, 5.58718498e+01, 5.73921028e+01,\n",
              "       5.89327620e+01, 6.04938272e+01, 6.20752984e+01, 6.36771758e+01,\n",
              "       6.52994592e+01, 6.69421488e+01, 6.86052444e+01, 7.02887460e+01,\n",
              "       7.19926538e+01, 7.37169677e+01, 7.54616876e+01, 7.72268136e+01,\n",
              "       7.90123457e+01, 8.08182838e+01, 8.26446281e+01, 8.44913784e+01,\n",
              "       8.63585348e+01, 8.82460973e+01, 9.01540659e+01, 9.20824406e+01,\n",
              "       9.40312213e+01, 9.60004081e+01, 9.79900010e+01, 1.00000000e+02])"
            ]
          },
          "metadata": {},
          "execution_count": 63
        }
      ]
    },
    {
      "cell_type": "code",
      "source": [
        "plt.plot(x,y) # here we are plotting array x as the dependent variable and array y as the independent variable"
      ],
      "metadata": {
        "colab": {
          "base_uri": "https://localhost:8080/",
          "height": 282
        },
        "id": "T2w2gxbO92Ax",
        "outputId": "8753e712-0323-499e-d7cc-0395dde32af7"
      },
      "execution_count": 64,
      "outputs": [
        {
          "output_type": "execute_result",
          "data": {
            "text/plain": [
              "[<matplotlib.lines.Line2D at 0x7efdc95b2550>]"
            ]
          },
          "metadata": {},
          "execution_count": 64
        },
        {
          "output_type": "display_data",
          "data": {
            "text/plain": [
              "<Figure size 432x288 with 1 Axes>"
            ],
            "image/png": "[encoded data removed]"
          },
          "metadata": {
            "needs_background": "light"
          }
        }
      ]
    },
    {
      "cell_type": "code",
      "source": [
        "plt.plot (x,y,'.', marker = 'o', markerfacecolor='#57D91F') # here we are plotting a graph using green colored circles adn titling the graph My first Graph\n",
        "plt.title(\"My first Graph\");"
      ],
      "metadata": {
        "colab": {
          "base_uri": "https://localhost:8080/",
          "height": 281
        },
        "id": "KQij2gEe97mI",
        "outputId": "caa0c210-5b63-4c4d-b28d-ddb74dc0f661"
      },
      "execution_count": 65,
      "outputs": [
        {
          "output_type": "display_data",
          "data": {
            "text/plain": [
              "<Figure size 432x288 with 1 Axes>"
            ],
            "image/png": "[encoded data removed]"
          },
          "metadata": {
            "needs_background": "light"
          }
        }
      ]
    },
    {
      "cell_type": "code",
      "source": [
        "plt.plot (x,y,'.', marker = 'o', markerfacecolor='#57D91F') # here we are plotting a graph using green circles with a title and labels for both axes\n",
        "plt.title(\"My first Graph\");\n",
        "plt.xlabel(\"X axis label goes here\")\n",
        "plt.ylabel(\"Y axis label goes here\")"
      ],
      "metadata": {
        "colab": {
          "base_uri": "https://localhost:8080/",
          "height": 312
        },
        "id": "wvRO2cb8-wgO",
        "outputId": "cf32d6cd-1930-4c98-fa2a-c3882ef0485b"
      },
      "execution_count": 66,
      "outputs": [
        {
          "output_type": "execute_result",
          "data": {
            "text/plain": [
              "Text(0, 0.5, 'Y axis label goes here')"
            ]
          },
          "metadata": {},
          "execution_count": 66
        },
        {
          "output_type": "display_data",
          "data": {
            "text/plain": [
              "<Figure size 432x288 with 1 Axes>"
            ],
            "image/png": "[encoded data removed]"
          },
          "metadata": {
            "needs_background": "light"
          }
        }
      ]
    },
    {
      "cell_type": "code",
      "source": [
        "plt.plot (x,y,'.', marker = 'o', markerfacecolor='#57D91F' , label = \" Graph of X squared\") # here we are plotting a graph using green circles with a title and labels for both axes and have included a legend\n",
        "plt.title(\"My first Graph\");\n",
        "plt.xlabel(\"X axis label goes here\")\n",
        "plt.ylabel(\"Y axis label goes here\")\n",
        "plt.legend()"
      ],
      "metadata": {
        "colab": {
          "base_uri": "https://localhost:8080/",
          "height": 312
        },
        "id": "x7jT7G15AHY3",
        "outputId": "d3f8ae06-4340-43eb-a99a-2bc5c2c59af9"
      },
      "execution_count": 67,
      "outputs": [
        {
          "output_type": "execute_result",
          "data": {
            "text/plain": [
              "<matplotlib.legend.Legend at 0x7efdc94559d0>"
            ]
          },
          "metadata": {},
          "execution_count": 67
        },
        {
          "output_type": "display_data",
          "data": {
            "text/plain": [
              "<Figure size 432x288 with 1 Axes>"
            ],
            "image/png": "[encoded data removed]"
          },
          "metadata": {
            "needs_background": "light"
          }
        }
      ]
    },
    {
      "cell_type": "code",
      "source": [
        "x = np.linspace(0,2,100) # here we have plotted 3 separate colored lines with a legend\n",
        "plt.plot(x,x, label=\"linear\")\n",
        "plt.plot(x,x**2, label=\"squared\")\n",
        "plt.plot(x,x**3, label=\"cubed\")\n",
        "plt.legend()"
      ],
      "metadata": {
        "colab": {
          "base_uri": "https://localhost:8080/",
          "height": 282
        },
        "id": "GwnFmS1gBN8L",
        "outputId": "01108913-1d3c-4b01-f74b-1c87b0db9c9d"
      },
      "execution_count": 68,
      "outputs": [
        {
          "output_type": "execute_result",
          "data": {
            "text/plain": [
              "<matplotlib.legend.Legend at 0x7efdc93c3e90>"
            ]
          },
          "metadata": {},
          "execution_count": 68
        },
        {
          "output_type": "display_data",
          "data": {
            "text/plain": [
              "<Figure size 432x288 with 1 Axes>"
            ],
            "image/png": "[encoded data removed]"
          },
          "metadata": {
            "needs_background": "light"
          }
        }
      ]
    },
    {
      "cell_type": "code",
      "source": [
        "x = np.linspace(0,2,100) # r-- is used to plot red dashed lines, bs is used to plot blue squares and g^ is used for green triangles\n",
        "plt.plot(x,x,   'r--', label=\"linear\") \n",
        "plt.plot(x,x**2,'bs' , label=\"squared\")\n",
        "plt.plot(x,x**3, 'g^', label=\"cubed\")\n",
        "plt.legend()"
      ],
      "metadata": {
        "colab": {
          "base_uri": "https://localhost:8080/",
          "height": 282
        },
        "id": "SEcU-r9bCgw4",
        "outputId": "165310a4-34d2-405e-d3f7-e83b3dc9637d"
      },
      "execution_count": 69,
      "outputs": [
        {
          "output_type": "execute_result",
          "data": {
            "text/plain": [
              "<matplotlib.legend.Legend at 0x7efdc93528d0>"
            ]
          },
          "metadata": {},
          "execution_count": 69
        },
        {
          "output_type": "display_data",
          "data": {
            "text/plain": [
              "<Figure size 432x288 with 1 Axes>"
            ],
            "image/png": "[encoded data removed]"
          },
          "metadata": {
            "needs_background": "light"
          }
        }
      ]
    },
    {
      "cell_type": "code",
      "source": [
        "names = ['cat','dog','bird'] # this is an array that holds words instead of numbers"
      ],
      "metadata": {
        "id": "DmU06To2DhFz"
      },
      "execution_count": 70,
      "outputs": []
    },
    {
      "cell_type": "code",
      "source": [
        "names # here we are displaying the words that the array names holds"
      ],
      "metadata": {
        "colab": {
          "base_uri": "https://localhost:8080/"
        },
        "id": "uBT599aoEzG3",
        "outputId": "ed778486-0641-42ca-9cdd-168a6c283bdc"
      },
      "execution_count": 71,
      "outputs": [
        {
          "output_type": "execute_result",
          "data": {
            "text/plain": [
              "['cat', 'dog', 'bird']"
            ]
          },
          "metadata": {},
          "execution_count": 71
        }
      ]
    },
    {
      "cell_type": "code",
      "source": [
        "names[0] # this displays the first item in the array (python starts counting from 0)"
      ],
      "metadata": {
        "colab": {
          "base_uri": "https://localhost:8080/",
          "height": 37
        },
        "id": "6XnqdrA_Ez6d",
        "outputId": "e4af2810-3a5e-415a-d60f-64d213ac5239"
      },
      "execution_count": 72,
      "outputs": [
        {
          "output_type": "execute_result",
          "data": {
            "text/plain": [
              "'cat'"
            ],
            "application/vnd.google.colaboratory.intrinsic+json": {
              "type": "string"
            }
          },
          "metadata": {},
          "execution_count": 72
        }
      ]
    },
    {
      "cell_type": "code",
      "source": [
        "names[1] # this displays the second item in the array"
      ],
      "metadata": {
        "colab": {
          "base_uri": "https://localhost:8080/",
          "height": 37
        },
        "id": "nIYpX6AZE2q0",
        "outputId": "25838f31-6ec8-4b4b-8586-01188df19582"
      },
      "execution_count": 73,
      "outputs": [
        {
          "output_type": "execute_result",
          "data": {
            "text/plain": [
              "'dog'"
            ],
            "application/vnd.google.colaboratory.intrinsic+json": {
              "type": "string"
            }
          },
          "metadata": {},
          "execution_count": 73
        }
      ]
    },
    {
      "cell_type": "code",
      "source": [
        "names[2] # this displays the third item in the array"
      ],
      "metadata": {
        "colab": {
          "base_uri": "https://localhost:8080/",
          "height": 37
        },
        "id": "gfZivwMzE6rd",
        "outputId": "a6eb7e89-0a19-4a17-cb2c-64420aa72229"
      },
      "execution_count": 74,
      "outputs": [
        {
          "output_type": "execute_result",
          "data": {
            "text/plain": [
              "'bird'"
            ],
            "application/vnd.google.colaboratory.intrinsic+json": {
              "type": "string"
            }
          },
          "metadata": {},
          "execution_count": 74
        }
      ]
    },
    {
      "cell_type": "code",
      "source": [
        "values = [15,18,6] # arrays can hold names as well as numbers "
      ],
      "metadata": {
        "id": "_ftwaGDsE7rW"
      },
      "execution_count": 75,
      "outputs": []
    },
    {
      "cell_type": "code",
      "source": [
        "values # this displays the numbers that the array values holds"
      ],
      "metadata": {
        "colab": {
          "base_uri": "https://localhost:8080/"
        },
        "id": "PWNb3VDmE8za",
        "outputId": "abdccae9-fed1-4feb-ff48-c40669af47fe"
      },
      "execution_count": 76,
      "outputs": [
        {
          "output_type": "execute_result",
          "data": {
            "text/plain": [
              "[15, 18, 6]"
            ]
          },
          "metadata": {},
          "execution_count": 76
        }
      ]
    },
    {
      "cell_type": "code",
      "source": [
        "plt.figure(1,figsize=(10,10)) # here we are plotting a bar graph using the arrays names & values and adjusting the graph size \n",
        "plt.subplot(1,3,1)\n",
        "plt.bar(names,values)"
      ],
      "metadata": {
        "colab": {
          "base_uri": "https://localhost:8080/",
          "height": 609
        },
        "id": "A6vjaCAuFGuw",
        "outputId": "25e209ba-70a9-4c18-a5f2-bb106fde8b10"
      },
      "execution_count": 77,
      "outputs": [
        {
          "output_type": "execute_result",
          "data": {
            "text/plain": [
              "<BarContainer object of 3 artists>"
            ]
          },
          "metadata": {},
          "execution_count": 77
        },
        {
          "output_type": "display_data",
          "data": {
            "text/plain": [
              "<Figure size 720x720 with 1 Axes>"
            ],
            "image/png": "[encoded data removed]"
          },
          "metadata": {
            "needs_background": "light"
          }
        }
      ]
    },
    {
      "cell_type": "code",
      "source": [
        "plt.figure(1,figsize=(10,10))\n",
        "\n",
        "plt.subplot(1,3,1) # the first number is number of rows, the second number is number of columns and the third number is for which plot you are referring to\n",
        "plt.bar(names,values)\n",
        "\n",
        "plt.subplot(1,3,2)\n",
        "plt.scatter(names,values)\n",
        "\n",
        "plt.subplot(1,3,3)\n",
        "plt.plot(names,values)\n"
      ],
      "metadata": {
        "colab": {
          "base_uri": "https://localhost:8080/",
          "height": 609
        },
        "id": "2gfCwlCXFbyb",
        "outputId": "4658c830-8c96-4e33-9dca-6cf9528f66ae"
      },
      "execution_count": 78,
      "outputs": [
        {
          "output_type": "execute_result",
          "data": {
            "text/plain": [
              "[<matplotlib.lines.Line2D at 0x7efdc9249e50>]"
            ]
          },
          "metadata": {},
          "execution_count": 78
        },
        {
          "output_type": "display_data",
          "data": {
            "text/plain": [
              "<Figure size 720x720 with 3 Axes>"
            ],
            "image/png": "[encoded data removed]"
          },
          "metadata": {
            "needs_background": "light"
          }
        }
      ]
    },
    {
      "cell_type": "code",
      "source": [
        "plt.figure(1,figsize=(3,3)) # here I have changed the size of the diagrams \n",
        "\n",
        "plt.subplot(2,2,1) # the first number is number of rows, the second number is number of columns and the third number is for which plot you are referring to\n",
        "plt.bar(names,values)\n",
        "\n",
        "plt.subplot(2,2,2)\n",
        "plt.scatter(names,values)\n",
        "\n",
        "plt.subplot(2,2,3)\n",
        "plt.plot(names,values)\n",
        "\n",
        "plt.subplot(2,2,4)\n",
        "plt.plot(names,values)"
      ],
      "metadata": {
        "colab": {
          "base_uri": "https://localhost:8080/",
          "height": 228
        },
        "id": "YxSXKUV-Grxu",
        "outputId": "0c0dcdc9-3c76-4848-cfde-2357f237d9ae"
      },
      "execution_count": 79,
      "outputs": [
        {
          "output_type": "execute_result",
          "data": {
            "text/plain": [
              "[<matplotlib.lines.Line2D at 0x7efdc90e9490>]"
            ]
          },
          "metadata": {},
          "execution_count": 79
        },
        {
          "output_type": "display_data",
          "data": {
            "text/plain": [
              "<Figure size 216x216 with 4 Axes>"
            ],
            "image/png": "[encoded data removed]"
          },
          "metadata": {
            "needs_background": "light"
          }
        }
      ]
    },
    {
      "cell_type": "markdown",
      "source": [
        "https://matplotlib.org/stable/gallery/index.html"
      ],
      "metadata": {
        "id": "Qw-f30L0J0zq"
      }
    },
    {
      "cell_type": "code",
      "source": [
        "import numpy as np # this is an example of a plot that I copied off the internet and it shows the amount of customization that is possible with the plotting feature\n",
        "import matplotlib.pyplot as plt\n",
        "t = np.arange(0.0, 2.0, 0.01)\n",
        "s = np.sin(2*np.pi*t)\n",
        "\n",
        "plt.plot(t, s)\n",
        "plt.title(r'$\\alpha_i > \\beta_i$', fontsize=20)\n",
        "plt.text(1, -0.6, r'$\\sum_{i=0}^\\infty x_i$', fontsize=20)\n",
        "plt.text(0.5, 0.6, r'$\\mathcal{A}\\mathrm{sin}(2 \\omega t)$',fontsize=15)\n",
        "plt.xlabel('time (s)')\n",
        "plt.ylabel('volts (mV)')\n",
        "plt.show()"
      ],
      "metadata": {
        "id": "3edUlLuArUoo",
        "colab": {
          "base_uri": "https://localhost:8080/",
          "height": 302
        },
        "outputId": "cc97bd90-9760-4a1f-9b84-315827577bad"
      },
      "execution_count": 80,
      "outputs": [
        {
          "output_type": "display_data",
          "data": {
            "text/plain": [
              "<Figure size 432x288 with 1 Axes>"
            ],
            "image/png": "[encoded data removed]"
          },
          "metadata": {
            "needs_background": "light"
          }
        }
      ]
    },
    {
      "cell_type": "markdown",
      "source": [
        "#Practice"
      ],
      "metadata": {
        "id": "bEdXZpJ3d5Tg"
      }
    },
    {
      "cell_type": "code",
      "source": [
        "hoodie_cost = 80 # here I have assigned a value to a varible named hoodie_cost"
      ],
      "metadata": {
        "id": "oBcgESNjeIOK"
      },
      "execution_count": 81,
      "outputs": []
    },
    {
      "cell_type": "code",
      "source": [
        "socks_cost = 10 # here I have assigned a value to a varible named socks_cost"
      ],
      "metadata": {
        "id": "FW6RfggreS57"
      },
      "execution_count": 82,
      "outputs": []
    },
    {
      "cell_type": "code",
      "source": [
        "hat_cost = 20 # here I have assigned a value to a varible named hat_cost"
      ],
      "metadata": {
        "id": "wbEUGvsbeXtr"
      },
      "execution_count": 83,
      "outputs": []
    },
    {
      "cell_type": "code",
      "source": [
        "hoodies = 15 # here I have assigned a value to a varible named hoodies"
      ],
      "metadata": {
        "id": "2XxhkowLe8Yx"
      },
      "execution_count": 84,
      "outputs": []
    },
    {
      "cell_type": "code",
      "source": [
        "socks = 12 # here I have assigned a value to a varible named socks"
      ],
      "metadata": {
        "id": "5GnNUmCNe_Fq"
      },
      "execution_count": 85,
      "outputs": []
    },
    {
      "cell_type": "code",
      "source": [
        "hats = 10 # here I have assigned a value to a varible named hats"
      ],
      "metadata": {
        "id": "KMOZ2NH_e1c9"
      },
      "execution_count": 86,
      "outputs": []
    },
    {
      "cell_type": "code",
      "source": [
        "hoodies_sold = 10 # here I have assigned a value to a varible named hoodies_sold"
      ],
      "metadata": {
        "id": "QSQT01-zfAst"
      },
      "execution_count": 87,
      "outputs": []
    },
    {
      "cell_type": "code",
      "source": [
        "socks_sold = 6 # here I have assigned a value to a varible named socks_sold"
      ],
      "metadata": {
        "id": "iGaoXBuyfIw8"
      },
      "execution_count": 88,
      "outputs": []
    },
    {
      "cell_type": "code",
      "source": [
        "hats_sold = 12 # here I have assigned a value to a varible named hats_sold"
      ],
      "metadata": {
        "id": "mKBubgFgfXjD"
      },
      "execution_count": 89,
      "outputs": []
    },
    {
      "cell_type": "code",
      "source": [
        "total_spent = (hoodies * hoodie_cost) + (socks * socks_cost) + (hats * hat_cost) # here I have assigned the result of 3 separate operations to the variable total_spent"
      ],
      "metadata": {
        "id": "uQVDF0KAfbMc"
      },
      "execution_count": 90,
      "outputs": []
    },
    {
      "cell_type": "code",
      "source": [
        "total_spent # here I am displaying the value stored in the variable total_spent"
      ],
      "metadata": {
        "colab": {
          "base_uri": "https://localhost:8080/"
        },
        "id": "PI9PX6HAf-_K",
        "outputId": "b2cc50b5-41e6-477e-c9b2-ae204c773b84"
      },
      "execution_count": 91,
      "outputs": [
        {
          "output_type": "execute_result",
          "data": {
            "text/plain": [
              "1520"
            ]
          },
          "metadata": {},
          "execution_count": 91
        }
      ]
    },
    {
      "cell_type": "code",
      "source": [
        "total_earned = (hoodie_cost * hoodies_sold) + (socks_cost * socks_sold) + (hat_cost * hats_sold) # here I have assigned the result of 3 separate operations to the variable total_earned"
      ],
      "metadata": {
        "id": "UrZFarU1gBRg"
      },
      "execution_count": 92,
      "outputs": []
    },
    {
      "cell_type": "code",
      "source": [
        "total_earned # here I am displaying the value stored in the variable total_earned"
      ],
      "metadata": {
        "colab": {
          "base_uri": "https://localhost:8080/"
        },
        "id": "-To-6n-egTH-",
        "outputId": "3800d460-57e8-47e5-c43a-88bb750493d8"
      },
      "execution_count": 93,
      "outputs": [
        {
          "output_type": "execute_result",
          "data": {
            "text/plain": [
              "1100"
            ]
          },
          "metadata": {},
          "execution_count": 93
        }
      ]
    },
    {
      "cell_type": "code",
      "source": [
        "net_profit = total_earned - total_spent # here I am subtracting the variables total_earned and total_spent and storing it in the variable net_profit"
      ],
      "metadata": {
        "id": "Eye-P9b0gVEJ"
      },
      "execution_count": 94,
      "outputs": []
    },
    {
      "cell_type": "code",
      "source": [
        "net_profit # here I am displaying the value stored in the variable net_profit. Notice that it is a negative number which indicates a loss instead of a profit.\n",
        "           # this is similar to a negative acceleration which would mean a deceleration."
      ],
      "metadata": {
        "colab": {
          "base_uri": "https://localhost:8080/"
        },
        "id": "czjthQptgp_M",
        "outputId": "16f528e0-8a35-4531-a89c-d19d6ed35bd6"
      },
      "execution_count": 95,
      "outputs": [
        {
          "output_type": "execute_result",
          "data": {
            "text/plain": [
              "-420"
            ]
          },
          "metadata": {},
          "execution_count": 95
        }
      ]
    },
    {
      "cell_type": "code",
      "source": [
        "percent_profit = (net_profit / total_spent) * 100 # here I dividing the variable net_profit by the variable total_spent and calculating a percentage by multiplying the result by 100 and storing it in the variable percent_profit"
      ],
      "metadata": {
        "id": "H7wdE82Fgt4G"
      },
      "execution_count": 96,
      "outputs": []
    },
    {
      "cell_type": "code",
      "source": [
        "percent_profit # here I am printing the value that the variable percent_profit holds followed by a % sign. Notice that it is a number meaning that there is a percent loss\n",
        "print(percent_profit, '%')"
      ],
      "metadata": {
        "colab": {
          "base_uri": "https://localhost:8080/"
        },
        "id": "E2V7neXHg-xS",
        "outputId": "0f3f30b9-f819-4184-fdb7-6a8d2a678708"
      },
      "execution_count": 97,
      "outputs": [
        {
          "output_type": "stream",
          "name": "stdout",
          "text": [
            "-27.631578947368425 %\n"
          ]
        }
      ]
    },
    {
      "cell_type": "markdown",
      "source": [
        "#Practice continued"
      ],
      "metadata": {
        "id": "cMPbc6G5h4p8"
      }
    },
    {
      "cell_type": "code",
      "source": [
        "student_grades = [56,78,94,82,73,69,50,100,66,92,83] # here I have created an array called student_grades and assigned 11 values"
      ],
      "metadata": {
        "id": "7R5zJHYHiNJv"
      },
      "execution_count": 98,
      "outputs": []
    },
    {
      "cell_type": "code",
      "source": [
        "student_grades # here I have displayed all the values that the array student_grades holds"
      ],
      "metadata": {
        "colab": {
          "base_uri": "https://localhost:8080/"
        },
        "id": "6lhWmTpaibmO",
        "outputId": "fe93aec0-6e28-4dc9-fc48-a145a87f5a94"
      },
      "execution_count": 99,
      "outputs": [
        {
          "output_type": "execute_result",
          "data": {
            "text/plain": [
              "[56, 78, 94, 82, 73, 69, 50, 100, 66, 92, 83]"
            ]
          },
          "metadata": {},
          "execution_count": 99
        }
      ]
    },
    {
      "cell_type": "code",
      "source": [
        "from numpy.lib.function_base import average # here I have imported average from a set of tools "
      ],
      "metadata": {
        "id": "7sPlFJcpiug_"
      },
      "execution_count": 100,
      "outputs": []
    },
    {
      "cell_type": "code",
      "source": [
        "average (student_grades) # here I have found the average of the values that the array student_grades holds"
      ],
      "metadata": {
        "colab": {
          "base_uri": "https://localhost:8080/"
        },
        "id": "sjAsJFHpjINg",
        "outputId": "7b121736-043c-48ab-b9b7-bf18b93f7be8"
      },
      "execution_count": 101,
      "outputs": [
        {
          "output_type": "execute_result",
          "data": {
            "text/plain": [
              "76.63636363636364"
            ]
          },
          "metadata": {},
          "execution_count": 101
        }
      ]
    },
    {
      "cell_type": "markdown",
      "source": [
        "#Exercises"
      ],
      "metadata": {
        "id": "KWix1h0ZZKn9"
      }
    },
    {
      "cell_type": "markdown",
      "source": [
        "Plot the following functions from $x = -10$ to $x = 10$ \n",
        "\n",
        "(Hint: np.sin, np.exp)"
      ],
      "metadata": {
        "id": "aBIah-uiGUXZ"
      }
    },
    {
      "cell_type": "markdown",
      "source": [
        "$y = 10x+7$\n",
        "\n",
        "$y = -3x-12$\n",
        "\n",
        "$y=\\sin(x)$\n",
        "\n",
        "$y=e^x$\n",
        "\n",
        "$y=e^{-x^2}$"
      ],
      "metadata": {
        "id": "5HATIyQyGfEj"
      }
    },
    {
      "cell_type": "markdown",
      "source": [
        "Pick out a plot of your choice from [here](https://matplotlib.org/stable/gallery/index.html), copy the code to this notebook, run, and document to the best of your abilities. "
      ],
      "metadata": {
        "id": "t0g5nhtbHfta"
      }
    },
    {
      "cell_type": "code",
      "source": [
        "x = np.linspace(-10,10) # This displays an array with numbers between the range of -10 to 10\n"
      ],
      "metadata": {
        "id": "sN-lZIsGEnly"
      },
      "execution_count": 102,
      "outputs": []
    },
    {
      "cell_type": "code",
      "source": [
        "x # This displays the values that array x holds"
      ],
      "metadata": {
        "colab": {
          "base_uri": "https://localhost:8080/"
        },
        "id": "-O_A_1sWE94v",
        "outputId": "e894ea96-dfee-44e0-82b3-3ba5d63a1779"
      },
      "execution_count": 103,
      "outputs": [
        {
          "output_type": "execute_result",
          "data": {
            "text/plain": [
              "array([-10.        ,  -9.59183673,  -9.18367347,  -8.7755102 ,\n",
              "        -8.36734694,  -7.95918367,  -7.55102041,  -7.14285714,\n",
              "        -6.73469388,  -6.32653061,  -5.91836735,  -5.51020408,\n",
              "        -5.10204082,  -4.69387755,  -4.28571429,  -3.87755102,\n",
              "        -3.46938776,  -3.06122449,  -2.65306122,  -2.24489796,\n",
              "        -1.83673469,  -1.42857143,  -1.02040816,  -0.6122449 ,\n",
              "        -0.20408163,   0.20408163,   0.6122449 ,   1.02040816,\n",
              "         1.42857143,   1.83673469,   2.24489796,   2.65306122,\n",
              "         3.06122449,   3.46938776,   3.87755102,   4.28571429,\n",
              "         4.69387755,   5.10204082,   5.51020408,   5.91836735,\n",
              "         6.32653061,   6.73469388,   7.14285714,   7.55102041,\n",
              "         7.95918367,   8.36734694,   8.7755102 ,   9.18367347,\n",
              "         9.59183673,  10.        ])"
            ]
          },
          "metadata": {},
          "execution_count": 103
        }
      ]
    },
    {
      "cell_type": "code",
      "source": [
        "y1 = 10*x + 7 # This multiplies the values in x by 10 and adds 7 to them, storing the result in array y1"
      ],
      "metadata": {
        "id": "dqnYf09pE-n4"
      },
      "execution_count": 104,
      "outputs": []
    },
    {
      "cell_type": "code",
      "source": [
        "y1 # This shows the values in array y1"
      ],
      "metadata": {
        "colab": {
          "base_uri": "https://localhost:8080/"
        },
        "id": "Lx-h0im_FEGW",
        "outputId": "73ae748e-df07-4ba8-8ecb-fc1f4fabe05d"
      },
      "execution_count": 105,
      "outputs": [
        {
          "output_type": "execute_result",
          "data": {
            "text/plain": [
              "array([-93.        , -88.91836735, -84.83673469, -80.75510204,\n",
              "       -76.67346939, -72.59183673, -68.51020408, -64.42857143,\n",
              "       -60.34693878, -56.26530612, -52.18367347, -48.10204082,\n",
              "       -44.02040816, -39.93877551, -35.85714286, -31.7755102 ,\n",
              "       -27.69387755, -23.6122449 , -19.53061224, -15.44897959,\n",
              "       -11.36734694,  -7.28571429,  -3.20408163,   0.87755102,\n",
              "         4.95918367,   9.04081633,  13.12244898,  17.20408163,\n",
              "        21.28571429,  25.36734694,  29.44897959,  33.53061224,\n",
              "        37.6122449 ,  41.69387755,  45.7755102 ,  49.85714286,\n",
              "        53.93877551,  58.02040816,  62.10204082,  66.18367347,\n",
              "        70.26530612,  74.34693878,  78.42857143,  82.51020408,\n",
              "        86.59183673,  90.67346939,  94.75510204,  98.83673469,\n",
              "       102.91836735, 107.        ])"
            ]
          },
          "metadata": {},
          "execution_count": 105
        }
      ]
    },
    {
      "cell_type": "code",
      "source": [
        "plt.plot(x,y1,'r', label =\"Graph of y = 10x + 7\" ) # This is used to plot the 1st equation in red and title the graph,axes & legend\n",
        "plt.title(\"#1 Graph of y = 10x + 7\");\n",
        "plt.xlabel(\"X axis\")\n",
        "plt.ylabel(\"Y axis\")\n",
        "plt.legend()"
      ],
      "metadata": {
        "colab": {
          "base_uri": "https://localhost:8080/",
          "height": 312
        },
        "id": "LO_cBLMJFGbH",
        "outputId": "1bfa643b-9986-4c33-ba08-56d558fe5db8"
      },
      "execution_count": 106,
      "outputs": [
        {
          "output_type": "execute_result",
          "data": {
            "text/plain": [
              "<matplotlib.legend.Legend at 0x7efdc90699d0>"
            ]
          },
          "metadata": {},
          "execution_count": 106
        },
        {
          "output_type": "display_data",
          "data": {
            "text/plain": [
              "<Figure size 432x288 with 1 Axes>"
            ],
            "image/png": "[encoded data removed]"
          },
          "metadata": {
            "needs_background": "light"
          }
        }
      ]
    },
    {
      "cell_type": "code",
      "source": [
        "y2 = -3*x - 12 # This multiplies x by -3 and subtracts 12, storing the result in array y2"
      ],
      "metadata": {
        "id": "Dc2mect0GQ96"
      },
      "execution_count": 107,
      "outputs": []
    },
    {
      "cell_type": "code",
      "source": [
        "y2 # This shows the values in array y2"
      ],
      "metadata": {
        "colab": {
          "base_uri": "https://localhost:8080/"
        },
        "id": "DqHmYidUHV8T",
        "outputId": "11b0f00a-0fa6-409c-e697-8896a985cd89"
      },
      "execution_count": 108,
      "outputs": [
        {
          "output_type": "execute_result",
          "data": {
            "text/plain": [
              "array([ 18.        ,  16.7755102 ,  15.55102041,  14.32653061,\n",
              "        13.10204082,  11.87755102,  10.65306122,   9.42857143,\n",
              "         8.20408163,   6.97959184,   5.75510204,   4.53061224,\n",
              "         3.30612245,   2.08163265,   0.85714286,  -0.36734694,\n",
              "        -1.59183673,  -2.81632653,  -4.04081633,  -5.26530612,\n",
              "        -6.48979592,  -7.71428571,  -8.93877551, -10.16326531,\n",
              "       -11.3877551 , -12.6122449 , -13.83673469, -15.06122449,\n",
              "       -16.28571429, -17.51020408, -18.73469388, -19.95918367,\n",
              "       -21.18367347, -22.40816327, -23.63265306, -24.85714286,\n",
              "       -26.08163265, -27.30612245, -28.53061224, -29.75510204,\n",
              "       -30.97959184, -32.20408163, -33.42857143, -34.65306122,\n",
              "       -35.87755102, -37.10204082, -38.32653061, -39.55102041,\n",
              "       -40.7755102 , -42.        ])"
            ]
          },
          "metadata": {},
          "execution_count": 108
        }
      ]
    },
    {
      "cell_type": "code",
      "source": [
        "plt.plot(x,y2,'y', label =\"Graph of y = -3x - 12\" ) # This is used to plot the 2nd equation in yellow and title the graph,axes & legend\n",
        "plt.title(\"#2 Graph of y = -3x - 12\");\n",
        "plt.xlabel(\"X axis\")\n",
        "plt.ylabel(\"Y axis\")\n",
        "plt.legend()"
      ],
      "metadata": {
        "colab": {
          "base_uri": "https://localhost:8080/",
          "height": 312
        },
        "id": "mAUUtR2bHWyW",
        "outputId": "2c44cab0-b3e7-471f-d961-3bf98fdd7034"
      },
      "execution_count": 109,
      "outputs": [
        {
          "output_type": "execute_result",
          "data": {
            "text/plain": [
              "<matplotlib.legend.Legend at 0x7efdc8ea6a50>"
            ]
          },
          "metadata": {},
          "execution_count": 109
        },
        {
          "output_type": "display_data",
          "data": {
            "text/plain": [
              "<Figure size 432x288 with 1 Axes>"
            ],
            "image/png": "[encoded data removed]"
          },
          "metadata": {
            "needs_background": "light"
          }
        }
      ]
    },
    {
      "cell_type": "code",
      "source": [
        "y3= np.sin(x) # This shows the sin of x, storing the result in array y3"
      ],
      "metadata": {
        "id": "ZygLGV7nHhc5"
      },
      "execution_count": 110,
      "outputs": []
    },
    {
      "cell_type": "code",
      "source": [
        "y3 # This shows the values in array y3"
      ],
      "metadata": {
        "colab": {
          "base_uri": "https://localhost:8080/"
        },
        "id": "CZdrb0-GIC0h",
        "outputId": "a8e16f65-c29e-4d03-a521-b51b5b21242f"
      },
      "execution_count": 111,
      "outputs": [
        {
          "output_type": "execute_result",
          "data": {
            "text/plain": [
              "array([ 0.54402111,  0.16628279, -0.23877532, -0.60460332, -0.8710967 ,\n",
              "       -0.99447137, -0.9544572 , -0.75762842, -0.43632343, -0.04333173,\n",
              "        0.35677924,  0.6982724 ,  0.92504137,  0.99982867,  0.91034694,\n",
              "        0.67129779,  0.32195632, -0.08028167, -0.46932961, -0.78126802,\n",
              "       -0.96484631, -0.98990308, -0.85232157, -0.57470604, -0.20266794,\n",
              "        0.20266794,  0.57470604,  0.85232157,  0.98990308,  0.96484631,\n",
              "        0.78126802,  0.46932961,  0.08028167, -0.32195632, -0.67129779,\n",
              "       -0.91034694, -0.99982867, -0.92504137, -0.6982724 , -0.35677924,\n",
              "        0.04333173,  0.43632343,  0.75762842,  0.9544572 ,  0.99447137,\n",
              "        0.8710967 ,  0.60460332,  0.23877532, -0.16628279, -0.54402111])"
            ]
          },
          "metadata": {},
          "execution_count": 111
        }
      ]
    },
    {
      "cell_type": "code",
      "source": [
        "plt.plot(x,y3,'g', label =\"Graph of y = sin(x)\" ) # This is used to plot the 3rd equation in green and title the graph,axes & legend\n",
        "plt.title(\"#3 Graph of y = sin(x)\");\n",
        "plt.xlabel(\"X axis\")\n",
        "plt.ylabel(\"Y axis\")\n",
        "plt.legend()"
      ],
      "metadata": {
        "colab": {
          "base_uri": "https://localhost:8080/",
          "height": 312
        },
        "id": "126toVsuIqsJ",
        "outputId": "26c4e1b5-d519-485e-d05c-935ea5042595"
      },
      "execution_count": 112,
      "outputs": [
        {
          "output_type": "execute_result",
          "data": {
            "text/plain": [
              "<matplotlib.legend.Legend at 0x7efdc8e2b590>"
            ]
          },
          "metadata": {},
          "execution_count": 112
        },
        {
          "output_type": "display_data",
          "data": {
            "text/plain": [
              "<Figure size 432x288 with 1 Axes>"
            ],
            "image/png": "[encoded data removed]"
          },
          "metadata": {
            "needs_background": "light"
          }
        }
      ]
    },
    {
      "cell_type": "code",
      "source": [
        "y4= np.exp(x) # This shows e^x, storing the result in array y4"
      ],
      "metadata": {
        "id": "kCI-aaJ-JeLk"
      },
      "execution_count": 113,
      "outputs": []
    },
    {
      "cell_type": "code",
      "source": [
        "y4 # This shows the values in array y4"
      ],
      "metadata": {
        "colab": {
          "base_uri": "https://localhost:8080/"
        },
        "id": "saxA4Q5KJvrD",
        "outputId": "de954e71-9998-42bc-cc80-604f871d8773"
      },
      "execution_count": 114,
      "outputs": [
        {
          "output_type": "execute_result",
          "data": {
            "text/plain": [
              "array([4.53999298e-05, 6.82838870e-05, 1.02702565e-04, 1.54470070e-04,\n",
              "       2.32331126e-04, 3.49438257e-04, 5.25573554e-04, 7.90490323e-04,\n",
              "       1.18893911e-03, 1.78822707e-03, 2.68958776e-03, 4.04528173e-03,\n",
              "       6.08431691e-03, 9.15113329e-03, 1.37637867e-02, 2.07014606e-02,\n",
              "       3.11360877e-02, 4.68303169e-02, 7.04352645e-02, 1.05938350e-01,\n",
              "       1.59336861e-01, 2.39651036e-01, 3.60447789e-01, 5.42132470e-01,\n",
              "       8.15395806e-01, 1.22639826e+00, 1.84456762e+00, 2.77432691e+00,\n",
              "       4.17273388e+00, 6.27601167e+00, 9.43945230e+00, 1.41974337e+01,\n",
              "       2.13536885e+01, 3.21170729e+01, 4.83057703e+01, 7.26544242e+01,\n",
              "       1.09276083e+02, 1.64356988e+02, 2.47201571e+02, 3.71804191e+02,\n",
              "       5.59213097e+02, 8.41085969e+02, 1.26503762e+03, 1.90268325e+03,\n",
              "       2.86173589e+03, 4.30420159e+03, 6.47374603e+03, 9.73685520e+03,\n",
              "       1.46447434e+04, 2.20264658e+04])"
            ]
          },
          "metadata": {},
          "execution_count": 114
        }
      ]
    },
    {
      "cell_type": "code",
      "source": [
        "plt.plot(x,y4,'b', label =\"Graph of y = $e^x$\" ) # This is used to plot the 4th equation in blue and title the graph,axes & legend\n",
        "plt.title(\"#4 Graph of y = $e^x$\");\n",
        "plt.xlabel(\"X axis\")\n",
        "plt.ylabel(\"Y axis\")\n",
        "plt.legend()"
      ],
      "metadata": {
        "colab": {
          "base_uri": "https://localhost:8080/",
          "height": 314
        },
        "id": "0Dcciv6WK6lb",
        "outputId": "bc35e93b-f75d-4fd3-fd11-f7b25d8e60f4"
      },
      "execution_count": 115,
      "outputs": [
        {
          "output_type": "execute_result",
          "data": {
            "text/plain": [
              "<matplotlib.legend.Legend at 0x7efdc95fde50>"
            ]
          },
          "metadata": {},
          "execution_count": 115
        },
        {
          "output_type": "display_data",
          "data": {
            "text/plain": [
              "<Figure size 432x288 with 1 Axes>"
            ],
            "image/png": "[encoded data removed]"
          },
          "metadata": {
            "needs_background": "light"
          }
        }
      ]
    },
    {
      "cell_type": "code",
      "source": [
        "y5= np.exp(-(x**2)) # This shows e^-x^2, storing the result in array y5"
      ],
      "metadata": {
        "id": "_E_Zk97LLSpm"
      },
      "execution_count": 116,
      "outputs": []
    },
    {
      "cell_type": "code",
      "source": [
        "y5 # This shows the values in array y5"
      ],
      "metadata": {
        "colab": {
          "base_uri": "https://localhost:8080/"
        },
        "id": "Whfk7MpzLnN8",
        "outputId": "a1207409-1329-4d19-aa08-0eb6d1209ff0"
      },
      "execution_count": 117,
      "outputs": [
        {
          "output_type": "execute_result",
          "data": {
            "text/plain": [
              "array([3.72007598e-44, 1.10525024e-40, 2.35323281e-37, 3.59058025e-34,\n",
              "       3.92608635e-31, 3.07645468e-28, 1.72757401e-25, 6.95213617e-23,\n",
              "       2.00491213e-20, 4.14350516e-18, 6.13671409e-16, 6.51327421e-14,\n",
              "       4.95402622e-12, 2.70030429e-10, 1.05478168e-08, 2.95262243e-07,\n",
              "       5.92309527e-06, 8.51500659e-05, 8.77236563e-04, 6.47655305e-03,\n",
              "       3.42662513e-02, 1.29922608e-01, 3.53019205e-01, 6.87396631e-01,\n",
              "       9.59206103e-01, 9.59206103e-01, 6.87396631e-01, 3.53019205e-01,\n",
              "       1.29922608e-01, 3.42662513e-02, 6.47655305e-03, 8.77236563e-04,\n",
              "       8.51500659e-05, 5.92309527e-06, 2.95262243e-07, 1.05478168e-08,\n",
              "       2.70030429e-10, 4.95402622e-12, 6.51327421e-14, 6.13671409e-16,\n",
              "       4.14350516e-18, 2.00491213e-20, 6.95213617e-23, 1.72757401e-25,\n",
              "       3.07645468e-28, 3.92608635e-31, 3.59058025e-34, 2.35323281e-37,\n",
              "       1.10525024e-40, 3.72007598e-44])"
            ]
          },
          "metadata": {},
          "execution_count": 117
        }
      ]
    },
    {
      "cell_type": "code",
      "source": [
        "plt.plot(x,y5,'m', label =\"Graph of y = $e^{-x^2}$\" ) # This is used to plot the 5th equation in magenta and title the graph,axes & legend\n",
        "plt.title(\"#5 (1st) Graph of y = $e^{-x^2}$\");\n",
        "plt.xlabel(\"X axis\")\n",
        "plt.ylabel(\"Y axis\")\n",
        "plt.legend()"
      ],
      "metadata": {
        "colab": {
          "base_uri": "https://localhost:8080/",
          "height": 317
        },
        "id": "yyLWcaCsLpN_",
        "outputId": "1a6c0a86-a545-4773-e5f6-722a71c02fad"
      },
      "execution_count": 118,
      "outputs": [
        {
          "output_type": "execute_result",
          "data": {
            "text/plain": [
              "<matplotlib.legend.Legend at 0x7efdc8e8ce10>"
            ]
          },
          "metadata": {},
          "execution_count": 118
        },
        {
          "output_type": "display_data",
          "data": {
            "text/plain": [
              "<Figure size 432x288 with 1 Axes>"
            ],
            "image/png": "[encoded data removed]"
          },
          "metadata": {
            "needs_background": "light"
          }
        }
      ]
    },
    {
      "cell_type": "code",
      "source": [
        "y6= np.exp((-x)**2) # This shows another plot of e^-x^2, storing the result in array y5"
      ],
      "metadata": {
        "id": "pZIcnmS9PKPD"
      },
      "execution_count": 119,
      "outputs": []
    },
    {
      "cell_type": "code",
      "source": [
        "y6 # This shows the values in array y6"
      ],
      "metadata": {
        "colab": {
          "base_uri": "https://localhost:8080/"
        },
        "id": "aDzr42ZVTMn9",
        "outputId": "2278af6a-f00c-4667-cc88-ce5319875630"
      },
      "execution_count": 120,
      "outputs": [
        {
          "output_type": "execute_result",
          "data": {
            "text/plain": [
              "array([2.68811714e+43, 9.04772476e+39, 4.24947329e+36, 2.78506517e+33,\n",
              "       2.54706573e+30, 3.25049482e+27, 5.78846401e+24, 1.43840681e+22,\n",
              "       4.98774976e+19, 2.41341560e+17, 1.62953656e+15, 1.53532612e+13,\n",
              "       2.01856017e+11, 3.70328635e+09, 9.48063491e+07, 3.38681976e+06,\n",
              "       1.68830646e+05, 1.17439721e+04, 1.13994337e+03, 1.54403120e+02,\n",
              "       2.91832331e+01, 7.69688981e+00, 2.83270708e+00, 1.45476418e+00,\n",
              "       1.04252881e+00, 1.04252881e+00, 1.45476418e+00, 2.83270708e+00,\n",
              "       7.69688981e+00, 2.91832331e+01, 1.54403120e+02, 1.13994337e+03,\n",
              "       1.17439721e+04, 1.68830646e+05, 3.38681976e+06, 9.48063491e+07,\n",
              "       3.70328635e+09, 2.01856017e+11, 1.53532612e+13, 1.62953656e+15,\n",
              "       2.41341560e+17, 4.98774976e+19, 1.43840681e+22, 5.78846401e+24,\n",
              "       3.25049482e+27, 2.54706573e+30, 2.78506517e+33, 4.24947329e+36,\n",
              "       9.04772476e+39, 2.68811714e+43])"
            ]
          },
          "metadata": {},
          "execution_count": 120
        }
      ]
    },
    {
      "cell_type": "code",
      "source": [
        "plt.plot(x,y6,'m', label =\"Graph of y = $e^{-x^2}$\" ) # This is used to plot the 5th equation in magenta and title the graph,axes & legend\n",
        "plt.title(\"#5 (2nd) Graph of y = $e^{-x^2}$\");\n",
        "plt.xlabel(\"X axis\")\n",
        "plt.ylabel(\"Y axis\")\n",
        "plt.legend()"
      ],
      "metadata": {
        "colab": {
          "base_uri": "https://localhost:8080/",
          "height": 317
        },
        "id": "3w8ylz1LTNn0",
        "outputId": "9fb04fa6-7358-4606-c64d-d2336e6eeca6"
      },
      "execution_count": 121,
      "outputs": [
        {
          "output_type": "execute_result",
          "data": {
            "text/plain": [
              "<matplotlib.legend.Legend at 0x7efdc8f47450>"
            ]
          },
          "metadata": {},
          "execution_count": 121
        },
        {
          "output_type": "display_data",
          "data": {
            "text/plain": [
              "<Figure size 432x288 with 1 Axes>"
            ],
            "image/png": "[encoded data removed]"
          },
          "metadata": {
            "needs_background": "light"
          }
        }
      ]
    }
  ]
}